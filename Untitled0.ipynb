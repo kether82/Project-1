{
 "cells": [
  {
   "cell_type": "markdown",
   "source": [
    "## The Dataset\r\n",
    "The dataset to be utilized for this notebook is called `YouTube Trending Video Dataset`. It contains details for the daily top trending videos in 11 regions, namely: India, USA, Great Britain, Germany, Canada, France, Russia, Brazil, Mexico, South Korea, and, Japan. The data was collected directly through the Youtube API. As the data came from Youtube directly there should be no sampling error. The US dataset will be primarily used in this study.\r\n"
   ],
   "metadata": {
    "id": "2JCx46SKZMaz"
   }
  },
  {
   "cell_type": "markdown",
   "source": [],
   "metadata": {}
  },
  {
   "cell_type": "code",
   "execution_count": 16,
   "source": [
    "import numpy as np\r\n",
    "import pandas as pd\r\n",
    "import matplotlib.pyplot as plt\r\n",
    "from scipy.stats import norm\r\n",
    "from scipy.stats import ttest_ind\r\n",
    "import math"
   ],
   "outputs": [],
   "metadata": {
    "id": "6SmPn47AgoRF"
   }
  },
  {
   "cell_type": "code",
   "execution_count": 17,
   "source": [
    "trending_US_df = pd.read_csv('datasets/US_youtube_trending_data.csv')"
   ],
   "outputs": [],
   "metadata": {
    "colab": {
     "base_uri": "https://localhost:8080/",
     "height": 404
    },
    "id": "heHESO_IgtzE",
    "outputId": "55c76054-2921-4c7b-ff67-ac76d1832e17"
   }
  },
  {
   "cell_type": "code",
   "execution_count": 18,
   "source": [
    "trending_US_df.info()"
   ],
   "outputs": [
    {
     "output_type": "stream",
     "name": "stdout",
     "text": [
      "<class 'pandas.core.frame.DataFrame'>\n",
      "RangeIndex: 70991 entries, 0 to 70990\n",
      "Data columns (total 16 columns):\n",
      " #   Column             Non-Null Count  Dtype \n",
      "---  ------             --------------  ----- \n",
      " 0   video_id           70991 non-null  object\n",
      " 1   title              70991 non-null  object\n",
      " 2   publishedAt        70991 non-null  object\n",
      " 3   channelId          70991 non-null  object\n",
      " 4   channelTitle       70991 non-null  object\n",
      " 5   categoryId         70991 non-null  int64 \n",
      " 6   trending_date      70991 non-null  object\n",
      " 7   tags               70991 non-null  object\n",
      " 8   view_count         70991 non-null  int64 \n",
      " 9   likes              70991 non-null  int64 \n",
      " 10  dislikes           70991 non-null  int64 \n",
      " 11  comment_count      70991 non-null  int64 \n",
      " 12  thumbnail_link     70991 non-null  object\n",
      " 13  comments_disabled  70991 non-null  bool  \n",
      " 14  ratings_disabled   70991 non-null  bool  \n",
      " 15  description        70163 non-null  object\n",
      "dtypes: bool(2), int64(5), object(9)\n",
      "memory usage: 7.7+ MB\n"
     ]
    }
   ],
   "metadata": {}
  },
  {
   "cell_type": "markdown",
   "source": [
    "Each row in the dataset representes a video while the columns are details or variables for each one. There are 70991 observations (rows) and 16 variables (columns). The following are descriptions for each variable.\r\n",
    "- **`video_id`**: unique video identifier\r\n",
    "- **`title`**: title of the video\r\n",
    "- **`publishedAt`**: timestamp of when the video was published \r\n",
    "- **`channelId`**: unique channel identifier\r\n",
    "- **`channelTitle`**: channel name\r\n",
    "- **`categoryId`**: an integer representing the video category; the legend for each number is found in a separate `.json` file\r\n",
    "- **`trending_date`**: the timestamp when the video went trending\r\n",
    "- **`tags`**: a string composed of all the tags attached to the video separated by the `|` character\r\n",
    "- **`view_count`**: number of views\r\n",
    "- **`likes`**: number of likes\r\n",
    "- **`dislikes`**: number of dislikes\r\n",
    "- **`comment_count`**: number of comments\r\n",
    "- **`thumbnail_link`**: a link to the video thumbnail\r\n",
    "- **`comments_disabled`**: a Boolean describing if comments are disabled or not\r\n",
    "- **`ratings_disabled`**: a Boolean describing if ratings are disabled or not\r\n",
    "- **`description`**: video description"
   ],
   "metadata": {}
  },
  {
   "cell_type": "markdown",
   "source": [
    "The category legend from the `US_category_id.json` file are as follows:\r\n",
    "- 1: Film & Animation\r\n",
    "- 2: Autos & Vehicles\r\n",
    "- 10: Music\r\n",
    "- 15: Pets & Animals\r\n",
    "- 17: Sports\r\n",
    "- 18: Short Movies\r\n",
    "- 19: Travel & Events\r\n",
    "- 20: Gaming\r\n",
    "- 21: Videoblogging\r\n",
    "- 22: People & Blogs\r\n",
    "- 23: Comedy\r\n",
    "- 24: Entertainment\r\n",
    "- 25: News & Politics\r\n",
    "- 26: Howto & Style\r\n",
    "- 27: Education\r\n",
    "- 28: Science & Technology\r\n",
    "- 29: Nonprofits & Activism\r\n",
    "- 30: Movies\r\n",
    "- 31: Anime/Animation\r\n",
    "- 32: Action/Adventure\r\n",
    "- 33: Classics\r\n",
    "- 34: Comedy\r\n",
    "- 35: Documentary\r\n",
    "- 36: Drama\r\n",
    "- 37: Family\r\n",
    "- 38: Foreign\r\n",
    "- 39: Horror\r\n",
    "- 40: Sci-Fi/Fantasy\r\n",
    "- 41: Thriller\r\n",
    "- 42: Shorts\r\n",
    "- 43: Shows\r\n",
    "- 44: Trailers"
   ],
   "metadata": {}
  },
  {
   "cell_type": "markdown",
   "source": [
    "## Exploratory Data Analysis\r\n",
    "1. Which category has the most trending videos in the sample on 2021/07/25 and 2021/06/25?\r\n",
    "- This analysis lets us see if the top category changes within a months time. It provides a glimpse into the interests of the mass during those two days. All these refer to the US.\r\n",
    "2. Is there a correlation between the number of `likes` and `view_count` of the category 10 (Music) and category 24 (Entertainment) ?\r\n",
    "- This analysis lets us see how likes and view_count is related in the US.\r\n",
    "3. How many days on average does it take for videos of the entertainment and music categories respectively to start trending in the US?\r\n",
    "- This analysis lets us know how long it takes on average to see a video trend in the US."
   ],
   "metadata": {}
  },
  {
   "cell_type": "markdown",
   "source": [
    "----\r\n",
    "## Data Cleaning and Preprocessing\r\n"
   ],
   "metadata": {}
  },
  {
   "cell_type": "code",
   "execution_count": 19,
   "source": [
    "trending_US_df.isnull().any()"
   ],
   "outputs": [
    {
     "output_type": "execute_result",
     "data": {
      "text/plain": [
       "video_id             False\n",
       "title                False\n",
       "publishedAt          False\n",
       "channelId            False\n",
       "channelTitle         False\n",
       "categoryId           False\n",
       "trending_date        False\n",
       "tags                 False\n",
       "view_count           False\n",
       "likes                False\n",
       "dislikes             False\n",
       "comment_count        False\n",
       "thumbnail_link       False\n",
       "comments_disabled    False\n",
       "ratings_disabled     False\n",
       "description           True\n",
       "dtype: bool"
      ]
     },
     "metadata": {},
     "execution_count": 19
    }
   ],
   "metadata": {}
  },
  {
   "cell_type": "markdown",
   "source": [
    "Since the variables *categoryId, trending_date, publishedAt, likes ,view_count* do not have any null values, we can move on."
   ],
   "metadata": {}
  },
  {
   "cell_type": "code",
   "execution_count": 20,
   "source": [
    "# check for consistency\r\n",
    "trending_US_df['categoryId'].unique()"
   ],
   "outputs": [
    {
     "output_type": "execute_result",
     "data": {
      "text/plain": [
       "array([22, 20, 24, 10, 26, 27, 23, 28,  1, 25, 17, 19, 15,  2, 29],\n",
       "      dtype=int64)"
      ]
     },
     "metadata": {},
     "execution_count": 20
    }
   ],
   "metadata": {}
  },
  {
   "cell_type": "code",
   "execution_count": 21,
   "source": [
    "# check for formatting and consistency\r\n",
    "trending_US_df['trending_date'].sample(5)\r\n",
    "trending_US_df['publishedAt'].sample(5)\r\n"
   ],
   "outputs": [
    {
     "output_type": "execute_result",
     "data": {
      "text/plain": [
       "25377    2020-12-13T18:56:07Z\n",
       "30337    2021-01-07T20:00:09Z\n",
       "3416     2020-08-27T06:00:10Z\n",
       "15467    2020-10-26T21:18:48Z\n",
       "42546    2021-03-10T22:11:11Z\n",
       "Name: publishedAt, dtype: object"
      ]
     },
     "metadata": {},
     "execution_count": 21
    }
   ],
   "metadata": {}
  },
  {
   "cell_type": "code",
   "execution_count": 22,
   "source": [
    "# check for data types\r\n",
    "trending_US_df.dtypes"
   ],
   "outputs": [
    {
     "output_type": "execute_result",
     "data": {
      "text/plain": [
       "video_id             object\n",
       "title                object\n",
       "publishedAt          object\n",
       "channelId            object\n",
       "channelTitle         object\n",
       "categoryId            int64\n",
       "trending_date        object\n",
       "tags                 object\n",
       "view_count            int64\n",
       "likes                 int64\n",
       "dislikes              int64\n",
       "comment_count         int64\n",
       "thumbnail_link       object\n",
       "comments_disabled      bool\n",
       "ratings_disabled       bool\n",
       "description          object\n",
       "dtype: object"
      ]
     },
     "metadata": {},
     "execution_count": 22
    }
   ],
   "metadata": {}
  },
  {
   "cell_type": "markdown",
   "source": [
    "Now that we have examined the variables needed, we can now proceed."
   ],
   "metadata": {}
  },
  {
   "cell_type": "markdown",
   "source": [
    "## Exploratory Data Analysis\r\n"
   ],
   "metadata": {
    "id": "UUE2buPTZsmi"
   }
  },
  {
   "cell_type": "markdown",
   "source": [
    "The dataset contains duplicate trending values for videos that were trending for multiple days.\r\n",
    "We should drop those duplicates as we should only count one trending video as one for it's category regardless of how many days it was trending.\r\n",
    "We grab the *last* day of the video on the dataset as it is the peak of the video.\r\n",
    "**Only EDA 1 and 2 will use this.**"
   ],
   "metadata": {}
  },
  {
   "cell_type": "code",
   "execution_count": 23,
   "source": [
    "\r\n",
    "trending_US_count_df_maxViews = trending_US_df.sort_values('view_count', ascending=False).drop_duplicates(['video_id'])\r\n",
    "trending_US_count_df = trending_US_count_df_maxViews"
   ],
   "outputs": [],
   "metadata": {}
  },
  {
   "cell_type": "markdown",
   "source": [
    "We first check for missing datas in our dataset. We will use the `isnull()` and any function to see all the variables of `trending_US_count_df`.\r\n"
   ],
   "metadata": {}
  },
  {
   "cell_type": "code",
   "execution_count": 24,
   "source": [
    "trending_US_count_df.isnull().any()"
   ],
   "outputs": [
    {
     "output_type": "execute_result",
     "data": {
      "text/plain": [
       "video_id             False\n",
       "title                False\n",
       "publishedAt          False\n",
       "channelId            False\n",
       "channelTitle         False\n",
       "categoryId           False\n",
       "trending_date        False\n",
       "tags                 False\n",
       "view_count           False\n",
       "likes                False\n",
       "dislikes             False\n",
       "comment_count        False\n",
       "thumbnail_link       False\n",
       "comments_disabled    False\n",
       "ratings_disabled     False\n",
       "description           True\n",
       "dtype: bool"
      ]
     },
     "metadata": {},
     "execution_count": 24
    }
   ],
   "metadata": {}
  },
  {
   "cell_type": "markdown",
   "source": [
    "### 1. Which category has the most trending videos in the sample on 2021/07/25 and 2021/06/25?\r\n",
    "To answer this question, We clean the variables `categoryId` and `trending_date` above.\r\n",
    "We will then create a new data frame containing only the rows of interest in trending_US_count_df namely the `categoryId` of the videos that have a `trending_date` of **07/25/2021** and **06/25/2021**\r\n"
   ],
   "metadata": {}
  },
  {
   "cell_type": "markdown",
   "source": [
    "### categoryId variable\r\n",
    "The **`categoryId`** variable is an integer representing the video category. we now list all the unique values for the categoryId variable."
   ],
   "metadata": {}
  },
  {
   "cell_type": "code",
   "execution_count": 25,
   "source": [
    "trending_US_count_df['categoryId'].unique()"
   ],
   "outputs": [
    {
     "output_type": "execute_result",
     "data": {
      "text/plain": [
       "array([10, 24, 26, 22, 28, 20, 25, 17, 23,  2,  1, 15, 27, 29, 19],\n",
       "      dtype=int64)"
      ]
     },
     "metadata": {},
     "execution_count": 25
    }
   ],
   "metadata": {}
  },
  {
   "cell_type": "markdown",
   "source": [
    "Since all values are valid, we can move on."
   ],
   "metadata": {}
  },
  {
   "cell_type": "code",
   "execution_count": 26,
   "source": [
    "trending_US_count_0725 = trending_US_count_df[(trending_US_count_df)[\"trending_date\"] == \"2021-07-25T00:00:00Z\"]\r\n",
    "trending_US_count_0625 = trending_US_count_df[(trending_US_count_df)[\"trending_date\"] == \"2021-06-25T00:00:00Z\"]"
   ],
   "outputs": [],
   "metadata": {}
  },
  {
   "cell_type": "markdown",
   "source": [
    "We can then check the number of unique observations per value of the categoryId variable using the value_count function on both the newly created data frames.\r\n"
   ],
   "metadata": {}
  },
  {
   "cell_type": "code",
   "execution_count": 27,
   "source": [
    "trending_US_count_0725_df = trending_US_count_0725['categoryId'].value_counts()\r\n",
    "trending_US_count_0725_df"
   ],
   "outputs": [
    {
     "output_type": "execute_result",
     "data": {
      "text/plain": [
       "20    10\n",
       "17     6\n",
       "24     6\n",
       "23     4\n",
       "1      2\n",
       "2      2\n",
       "22     2\n",
       "19     1\n",
       "28     1\n",
       "Name: categoryId, dtype: int64"
      ]
     },
     "metadata": {},
     "execution_count": 27
    }
   ],
   "metadata": {}
  },
  {
   "cell_type": "code",
   "execution_count": 28,
   "source": [
    "trending_US_count_0625_df = trending_US_count_0625['categoryId'].value_counts()\r\n",
    "trending_US_count_0625_df"
   ],
   "outputs": [
    {
     "output_type": "execute_result",
     "data": {
      "text/plain": [
       "20    19\n",
       "17    15\n",
       "22    13\n",
       "24    11\n",
       "10     7\n",
       "23     5\n",
       "1      2\n",
       "2      2\n",
       "26     2\n",
       "28     2\n",
       "15     1\n",
       "19     1\n",
       "25     1\n",
       "27     1\n",
       "Name: categoryId, dtype: int64"
      ]
     },
     "metadata": {},
     "execution_count": 28
    }
   ],
   "metadata": {}
  },
  {
   "cell_type": "markdown",
   "source": [
    "Let us create a bar plot to better show the count of the occurances per categoryId."
   ],
   "metadata": {}
  },
  {
   "cell_type": "code",
   "execution_count": 29,
   "source": [
    "trending_US_count_0725_df.plot.bar()\r\n",
    "plt.xlabel('CategoryId')\r\n",
    "plt.ylabel('Count')\r\n",
    "plt.title('Video Trending count per categoryId on 07/25/21')"
   ],
   "outputs": [
    {
     "output_type": "execute_result",
     "data": {
      "text/plain": [
       "Text(0.5, 1.0, 'Video Trending count per categoryId on 07/25/21')"
      ]
     },
     "metadata": {},
     "execution_count": 29
    },
    {
     "output_type": "display_data",
     "data": {
      "text/plain": [
       "<Figure size 432x288 with 1 Axes>"
      ],
      "image/png": "[encoded data removed]"
     },
     "metadata": {
      "needs_background": "light"
     }
    }
   ],
   "metadata": {}
  },
  {
   "cell_type": "code",
   "execution_count": 30,
   "source": [
    "trending_US_count_0625_df.plot.bar()\r\n",
    "plt.xlabel('CategoryId')\r\n",
    "plt.ylabel('Count')\r\n",
    "plt.title('Video Trending count per categoryId on 06/25/21')"
   ],
   "outputs": [
    {
     "output_type": "execute_result",
     "data": {
      "text/plain": [
       "Text(0.5, 1.0, 'Video Trending count per categoryId on 06/25/21')"
      ]
     },
     "metadata": {},
     "execution_count": 30
    },
    {
     "output_type": "display_data",
     "data": {
      "text/plain": [
       "<Figure size 432x288 with 1 Axes>"
      ],
      "image/png": "[encoded data removed]"
     },
     "metadata": {
      "needs_background": "light"
     }
    }
   ],
   "metadata": {}
  },
  {
   "cell_type": "markdown",
   "source": [
    "We can see from the graph above that category number 20 (Gaming) has the highest trending count on 07/25/21 with a total of 10 trending videos with that category.\r\n",
    "Similarly on 06/25/21, category number 20 (Gaming) also took the highest trending count with a total of 19 trending videos with that category."
   ],
   "metadata": {}
  },
  {
   "cell_type": "markdown",
   "source": [
    "### 2. Is there a correlation between the number of `likes` and `view_count` of the category 10 (Music) and category 24 (Entertainment) ?"
   ],
   "metadata": {}
  },
  {
   "cell_type": "markdown",
   "source": [
    "We drop the other columns as we only need video_id, likes, view_count and category. Furthermore we use the dataframe with the **last day** of trend."
   ],
   "metadata": {}
  },
  {
   "cell_type": "code",
   "execution_count": 31,
   "source": [
    "# only need video_id ,likes, view_count, category\r\n",
    "dataset_dropped= trending_US_count_df_maxViews.drop([\"title\", \"publishedAt\", \"channelId\", \"channelTitle\", \"trending_date\", \"tags\",\"dislikes\", \"comment_count\", \"thumbnail_link\", \"comments_disabled\", \"ratings_disabled\", \"description\"], axis=1)\r\n",
    "dataset_dropped.info()"
   ],
   "outputs": [
    {
     "output_type": "stream",
     "name": "stdout",
     "text": [
      "<class 'pandas.core.frame.DataFrame'>\n",
      "Int64Index: 11924 entries, 56374 to 48995\n",
      "Data columns (total 4 columns):\n",
      " #   Column      Non-Null Count  Dtype \n",
      "---  ------      --------------  ----- \n",
      " 0   video_id    11924 non-null  object\n",
      " 1   categoryId  11924 non-null  int64 \n",
      " 2   view_count  11924 non-null  int64 \n",
      " 3   likes       11924 non-null  int64 \n",
      "dtypes: int64(3), object(1)\n",
      "memory usage: 465.8+ KB\n"
     ]
    }
   ],
   "metadata": {}
  },
  {
   "cell_type": "markdown",
   "source": [
    "We get the top two categories to use as basis. We retrieve the dataframes corresponding to the two `categoryId`'s. It is also used as basis for the question."
   ],
   "metadata": {}
  },
  {
   "cell_type": "code",
   "execution_count": 32,
   "source": [
    "dataset_dropped.categoryId.value_counts().head(2)"
   ],
   "outputs": [
    {
     "output_type": "execute_result",
     "data": {
      "text/plain": [
       "24    2394\n",
       "10    2284\n",
       "Name: categoryId, dtype: int64"
      ]
     },
     "metadata": {},
     "execution_count": 32
    }
   ],
   "metadata": {}
  },
  {
   "cell_type": "code",
   "execution_count": 33,
   "source": [
    "# Create 2 dataframes that correspond to the dataframe of the top 2 categories\r\n",
    "dataset_top2_cat10 = dataset_dropped[dataset_dropped[\"categoryId\"]==10]\r\n",
    "dataset_top2_cat24 = dataset_dropped[dataset_dropped[\"categoryId\"]==24]\r\n"
   ],
   "outputs": [],
   "metadata": {}
  },
  {
   "cell_type": "markdown",
   "source": [
    "We call the `corr` function with a `method = \"pearson\"` argument to compute for the pearson correlation coefficient"
   ],
   "metadata": {}
  },
  {
   "cell_type": "code",
   "execution_count": 34,
   "source": [
    "dataset_top2_cat10.corr(method = \"pearson\")"
   ],
   "outputs": [
    {
     "output_type": "execute_result",
     "data": {
      "text/plain": [
       "            categoryId  view_count     likes\n",
       "categoryId         NaN         NaN       NaN\n",
       "view_count         NaN    1.000000  0.901077\n",
       "likes              NaN    0.901077  1.000000"
      ],
      "text/html": [
       "<div>\n",
       "<style scoped>\n",
       "    .dataframe tbody tr th:only-of-type {\n",
       "        vertical-align: middle;\n",
       "    }\n",
       "\n",
       "    .dataframe tbody tr th {\n",
       "        vertical-align: top;\n",
       "    }\n",
       "\n",
       "    .dataframe thead th {\n",
       "        text-align: right;\n",
       "    }\n",
       "</style>\n",
       "<table border=\"1\" class=\"dataframe\">\n",
       "  <thead>\n",
       "    <tr style=\"text-align: right;\">\n",
       "      <th></th>\n",
       "      <th>categoryId</th>\n",
       "      <th>view_count</th>\n",
       "      <th>likes</th>\n",
       "    </tr>\n",
       "  </thead>\n",
       "  <tbody>\n",
       "    <tr>\n",
       "      <th>categoryId</th>\n",
       "      <td>NaN</td>\n",
       "      <td>NaN</td>\n",
       "      <td>NaN</td>\n",
       "    </tr>\n",
       "    <tr>\n",
       "      <th>view_count</th>\n",
       "      <td>NaN</td>\n",
       "      <td>1.000000</td>\n",
       "      <td>0.901077</td>\n",
       "    </tr>\n",
       "    <tr>\n",
       "      <th>likes</th>\n",
       "      <td>NaN</td>\n",
       "      <td>0.901077</td>\n",
       "      <td>1.000000</td>\n",
       "    </tr>\n",
       "  </tbody>\n",
       "</table>\n",
       "</div>"
      ]
     },
     "metadata": {},
     "execution_count": 34
    }
   ],
   "metadata": {}
  },
  {
   "cell_type": "markdown",
   "source": [
    "We plot the values of *view_count* on the *x-axis* with *likes* on the *y-axis*. The graph affirms our finding of a *positive 0.90 pearson correlation coefficient*. "
   ],
   "metadata": {}
  },
  {
   "cell_type": "code",
   "execution_count": 35,
   "source": [
    "plt.scatter(dataset_top2_cat10.view_count, dataset_top2_cat10.likes)\r\n",
    "plt.title('Correlation of view_count to likes of Music')\r\n",
    "plt.xlabel('view_count')\r\n",
    "plt.ylabel('likes')\r\n",
    "plt.show()"
   ],
   "outputs": [
    {
     "output_type": "display_data",
     "data": {
      "text/plain": [
       "<Figure size 432x288 with 1 Axes>"
      ],
      "image/png": "[encoded data removed]"
     },
     "metadata": {
      "needs_background": "light"
     }
    }
   ],
   "metadata": {}
  },
  {
   "cell_type": "code",
   "execution_count": 36,
   "source": [
    "dataset_top2_cat24.corr(method =\"pearson\")"
   ],
   "outputs": [
    {
     "output_type": "execute_result",
     "data": {
      "text/plain": [
       "            categoryId  view_count     likes\n",
       "categoryId         NaN         NaN       NaN\n",
       "view_count         NaN    1.000000  0.876544\n",
       "likes              NaN    0.876544  1.000000"
      ],
      "text/html": [
       "<div>\n",
       "<style scoped>\n",
       "    .dataframe tbody tr th:only-of-type {\n",
       "        vertical-align: middle;\n",
       "    }\n",
       "\n",
       "    .dataframe tbody tr th {\n",
       "        vertical-align: top;\n",
       "    }\n",
       "\n",
       "    .dataframe thead th {\n",
       "        text-align: right;\n",
       "    }\n",
       "</style>\n",
       "<table border=\"1\" class=\"dataframe\">\n",
       "  <thead>\n",
       "    <tr style=\"text-align: right;\">\n",
       "      <th></th>\n",
       "      <th>categoryId</th>\n",
       "      <th>view_count</th>\n",
       "      <th>likes</th>\n",
       "    </tr>\n",
       "  </thead>\n",
       "  <tbody>\n",
       "    <tr>\n",
       "      <th>categoryId</th>\n",
       "      <td>NaN</td>\n",
       "      <td>NaN</td>\n",
       "      <td>NaN</td>\n",
       "    </tr>\n",
       "    <tr>\n",
       "      <th>view_count</th>\n",
       "      <td>NaN</td>\n",
       "      <td>1.000000</td>\n",
       "      <td>0.876544</td>\n",
       "    </tr>\n",
       "    <tr>\n",
       "      <th>likes</th>\n",
       "      <td>NaN</td>\n",
       "      <td>0.876544</td>\n",
       "      <td>1.000000</td>\n",
       "    </tr>\n",
       "  </tbody>\n",
       "</table>\n",
       "</div>"
      ]
     },
     "metadata": {},
     "execution_count": 36
    }
   ],
   "metadata": {}
  },
  {
   "cell_type": "markdown",
   "source": [
    "Just like before, we plot the values of *view_count* on the *x-axis* with *likes* on the *y-axis*. The graph affirms our finding of a *positive 0.876 pearson correlation coefficient.*"
   ],
   "metadata": {}
  },
  {
   "cell_type": "code",
   "execution_count": 37,
   "source": [
    "plt.scatter(dataset_top2_cat24.view_count,dataset_top2_cat24.likes)\r\n",
    "plt.title('Correlation of view_count to likes')\r\n",
    "plt.xlabel('view_count')\r\n",
    "plt.ylabel('likes')\r\n",
    "plt.show()"
   ],
   "outputs": [
    {
     "output_type": "display_data",
     "data": {
      "text/plain": [
       "<Figure size 432x288 with 1 Axes>"
      ],
      "image/png": "[encoded data removed]"
     },
     "metadata": {
      "needs_background": "light"
     }
    }
   ],
   "metadata": {}
  },
  {
   "cell_type": "markdown",
   "source": [
    "### 3. How many days on average does it take for videos of the entertainment and music categories respectively to start trending in the US?"
   ],
   "metadata": {}
  },
  {
   "cell_type": "markdown",
   "source": [
    "The variables of interest to answer this question are the following: \r\n",
    "- **`video_id`**: unique video identifier\r\n",
    "- **`categoryId`**: an integer representing the video category; the legend for each number is found in a separate `.json` file\r\n",
    "- **`publishedAt`**: timestamp of when the video was published\r\n",
    "- **`trending_date`**: the timestamp when the video went trending"
   ],
   "metadata": {}
  },
  {
   "cell_type": "code",
   "execution_count": 38,
   "source": [
    "# take relevant portion of dataframe\r\n",
    "avg_time_to_trend24_df = trending_US_df.loc[(trending_US_df['categoryId'] == 24), ['video_id', 'categoryId', 'publishedAt', 'trending_date']]\r\n",
    "\r\n",
    "# remove duplicates and keep the entry that has the earliest trending date\r\n",
    "avg_time_to_trend24_df = avg_time_to_trend24_df.sort_values('trending_date', ascending=True).drop_duplicates(['video_id'])\r\n",
    "avg_time_to_trend24_df"
   ],
   "outputs": [
    {
     "output_type": "execute_result",
     "data": {
      "text/plain": [
       "          video_id  categoryId           publishedAt         trending_date\n",
       "2      J78aPJ3VyNs          24  2020-08-11T16:34:06Z  2020-08-12T00:00:00Z\n",
       "123    lw68FF0GEX8          24  2020-08-09T18:42:44Z  2020-08-12T00:00:00Z\n",
       "125    YIlhmtpDjmo          24  2020-08-08T18:30:02Z  2020-08-12T00:00:00Z\n",
       "131    LI1hCQ-6P0Y          24  2020-08-08T19:00:11Z  2020-08-12T00:00:00Z\n",
       "142    -n8IrFPSFCU          24  2020-08-07T19:14:02Z  2020-08-12T00:00:00Z\n",
       "...            ...         ...                   ...                   ...\n",
       "70816  8b-gexMf0EY          24  2021-07-25T01:10:25Z  2021-07-26T00:00:00Z\n",
       "70823  C1WtkPkCvK4          24  2021-07-24T14:46:59Z  2021-07-26T00:00:00Z\n",
       "70824  bG5OVLBLBFw          24  2021-07-24T15:06:34Z  2021-07-26T00:00:00Z\n",
       "70829  vHC1UGwrWeo          24  2021-07-24T15:30:11Z  2021-07-26T00:00:00Z\n",
       "70834  CqumfFNR5Hk          24  2021-07-24T19:16:34Z  2021-07-26T00:00:00Z\n",
       "\n",
       "[2398 rows x 4 columns]"
      ],
      "text/html": [
       "<div>\n",
       "<style scoped>\n",
       "    .dataframe tbody tr th:only-of-type {\n",
       "        vertical-align: middle;\n",
       "    }\n",
       "\n",
       "    .dataframe tbody tr th {\n",
       "        vertical-align: top;\n",
       "    }\n",
       "\n",
       "    .dataframe thead th {\n",
       "        text-align: right;\n",
       "    }\n",
       "</style>\n",
       "<table border=\"1\" class=\"dataframe\">\n",
       "  <thead>\n",
       "    <tr style=\"text-align: right;\">\n",
       "      <th></th>\n",
       "      <th>video_id</th>\n",
       "      <th>categoryId</th>\n",
       "      <th>publishedAt</th>\n",
       "      <th>trending_date</th>\n",
       "    </tr>\n",
       "  </thead>\n",
       "  <tbody>\n",
       "    <tr>\n",
       "      <th>2</th>\n",
       "      <td>J78aPJ3VyNs</td>\n",
       "      <td>24</td>\n",
       "      <td>2020-08-11T16:34:06Z</td>\n",
       "      <td>2020-08-12T00:00:00Z</td>\n",
       "    </tr>\n",
       "    <tr>\n",
       "      <th>123</th>\n",
       "      <td>lw68FF0GEX8</td>\n",
       "      <td>24</td>\n",
       "      <td>2020-08-09T18:42:44Z</td>\n",
       "      <td>2020-08-12T00:00:00Z</td>\n",
       "    </tr>\n",
       "    <tr>\n",
       "      <th>125</th>\n",
       "      <td>YIlhmtpDjmo</td>\n",
       "      <td>24</td>\n",
       "      <td>2020-08-08T18:30:02Z</td>\n",
       "      <td>2020-08-12T00:00:00Z</td>\n",
       "    </tr>\n",
       "    <tr>\n",
       "      <th>131</th>\n",
       "      <td>LI1hCQ-6P0Y</td>\n",
       "      <td>24</td>\n",
       "      <td>2020-08-08T19:00:11Z</td>\n",
       "      <td>2020-08-12T00:00:00Z</td>\n",
       "    </tr>\n",
       "    <tr>\n",
       "      <th>142</th>\n",
       "      <td>-n8IrFPSFCU</td>\n",
       "      <td>24</td>\n",
       "      <td>2020-08-07T19:14:02Z</td>\n",
       "      <td>2020-08-12T00:00:00Z</td>\n",
       "    </tr>\n",
       "    <tr>\n",
       "      <th>...</th>\n",
       "      <td>...</td>\n",
       "      <td>...</td>\n",
       "      <td>...</td>\n",
       "      <td>...</td>\n",
       "    </tr>\n",
       "    <tr>\n",
       "      <th>70816</th>\n",
       "      <td>8b-gexMf0EY</td>\n",
       "      <td>24</td>\n",
       "      <td>2021-07-25T01:10:25Z</td>\n",
       "      <td>2021-07-26T00:00:00Z</td>\n",
       "    </tr>\n",
       "    <tr>\n",
       "      <th>70823</th>\n",
       "      <td>C1WtkPkCvK4</td>\n",
       "      <td>24</td>\n",
       "      <td>2021-07-24T14:46:59Z</td>\n",
       "      <td>2021-07-26T00:00:00Z</td>\n",
       "    </tr>\n",
       "    <tr>\n",
       "      <th>70824</th>\n",
       "      <td>bG5OVLBLBFw</td>\n",
       "      <td>24</td>\n",
       "      <td>2021-07-24T15:06:34Z</td>\n",
       "      <td>2021-07-26T00:00:00Z</td>\n",
       "    </tr>\n",
       "    <tr>\n",
       "      <th>70829</th>\n",
       "      <td>vHC1UGwrWeo</td>\n",
       "      <td>24</td>\n",
       "      <td>2021-07-24T15:30:11Z</td>\n",
       "      <td>2021-07-26T00:00:00Z</td>\n",
       "    </tr>\n",
       "    <tr>\n",
       "      <th>70834</th>\n",
       "      <td>CqumfFNR5Hk</td>\n",
       "      <td>24</td>\n",
       "      <td>2021-07-24T19:16:34Z</td>\n",
       "      <td>2021-07-26T00:00:00Z</td>\n",
       "    </tr>\n",
       "  </tbody>\n",
       "</table>\n",
       "<p>2398 rows × 4 columns</p>\n",
       "</div>"
      ]
     },
     "metadata": {},
     "execution_count": 38
    }
   ],
   "metadata": {}
  },
  {
   "cell_type": "code",
   "execution_count": 39,
   "source": [
    "# take relevant portion of dataframe\r\n",
    "avg_time_to_trend10_df = trending_US_df.loc[(trending_US_df['categoryId'] == 10), ['video_id', 'categoryId', 'publishedAt', 'trending_date']]\r\n",
    "\r\n",
    "# remove duplicates and keep the entry that has the earliest trending date\r\n",
    "avg_time_to_trend10_df = avg_time_to_trend10_df.sort_values('trending_date', ascending=True).drop_duplicates(['video_id'])\r\n",
    "avg_time_to_trend10_df"
   ],
   "outputs": [
    {
     "output_type": "execute_result",
     "data": {
      "text/plain": [
       "          video_id  categoryId           publishedAt         trending_date\n",
       "3      kXLn3HkpjaA          10  2020-08-11T16:38:55Z  2020-08-12T00:00:00Z\n",
       "138    bpmGuPhGE0Y          10  2020-08-07T04:53:18Z  2020-08-12T00:00:00Z\n",
       "140    HkTTPu_p2ps          10  2020-08-08T17:00:25Z  2020-08-12T00:00:00Z\n",
       "141    4UiaCC01Vwk          10  2020-08-08T15:00:11Z  2020-08-12T00:00:00Z\n",
       "149    6i01tOMgBDU          10  2020-08-07T17:00:11Z  2020-08-12T00:00:00Z\n",
       "...            ...         ...                   ...                   ...\n",
       "70439  yJDGK9z6tFQ          10  2021-07-23T14:00:21Z  2021-07-24T00:00:00Z\n",
       "70423  6H1YAQbgpGg          10  2021-07-23T02:00:10Z  2021-07-24T00:00:00Z\n",
       "70604  y8tF0yRl8-w          10  2021-07-24T13:00:32Z  2021-07-25T00:00:00Z\n",
       "70815  xp8PIwYXTiY          10  2021-07-25T09:00:12Z  2021-07-26T00:00:00Z\n",
       "70836  q2sxw-_SU-s          10  2021-07-23T22:30:09Z  2021-07-26T00:00:00Z\n",
       "\n",
       "[2285 rows x 4 columns]"
      ],
      "text/html": [
       "<div>\n",
       "<style scoped>\n",
       "    .dataframe tbody tr th:only-of-type {\n",
       "        vertical-align: middle;\n",
       "    }\n",
       "\n",
       "    .dataframe tbody tr th {\n",
       "        vertical-align: top;\n",
       "    }\n",
       "\n",
       "    .dataframe thead th {\n",
       "        text-align: right;\n",
       "    }\n",
       "</style>\n",
       "<table border=\"1\" class=\"dataframe\">\n",
       "  <thead>\n",
       "    <tr style=\"text-align: right;\">\n",
       "      <th></th>\n",
       "      <th>video_id</th>\n",
       "      <th>categoryId</th>\n",
       "      <th>publishedAt</th>\n",
       "      <th>trending_date</th>\n",
       "    </tr>\n",
       "  </thead>\n",
       "  <tbody>\n",
       "    <tr>\n",
       "      <th>3</th>\n",
       "      <td>kXLn3HkpjaA</td>\n",
       "      <td>10</td>\n",
       "      <td>2020-08-11T16:38:55Z</td>\n",
       "      <td>2020-08-12T00:00:00Z</td>\n",
       "    </tr>\n",
       "    <tr>\n",
       "      <th>138</th>\n",
       "      <td>bpmGuPhGE0Y</td>\n",
       "      <td>10</td>\n",
       "      <td>2020-08-07T04:53:18Z</td>\n",
       "      <td>2020-08-12T00:00:00Z</td>\n",
       "    </tr>\n",
       "    <tr>\n",
       "      <th>140</th>\n",
       "      <td>HkTTPu_p2ps</td>\n",
       "      <td>10</td>\n",
       "      <td>2020-08-08T17:00:25Z</td>\n",
       "      <td>2020-08-12T00:00:00Z</td>\n",
       "    </tr>\n",
       "    <tr>\n",
       "      <th>141</th>\n",
       "      <td>4UiaCC01Vwk</td>\n",
       "      <td>10</td>\n",
       "      <td>2020-08-08T15:00:11Z</td>\n",
       "      <td>2020-08-12T00:00:00Z</td>\n",
       "    </tr>\n",
       "    <tr>\n",
       "      <th>149</th>\n",
       "      <td>6i01tOMgBDU</td>\n",
       "      <td>10</td>\n",
       "      <td>2020-08-07T17:00:11Z</td>\n",
       "      <td>2020-08-12T00:00:00Z</td>\n",
       "    </tr>\n",
       "    <tr>\n",
       "      <th>...</th>\n",
       "      <td>...</td>\n",
       "      <td>...</td>\n",
       "      <td>...</td>\n",
       "      <td>...</td>\n",
       "    </tr>\n",
       "    <tr>\n",
       "      <th>70439</th>\n",
       "      <td>yJDGK9z6tFQ</td>\n",
       "      <td>10</td>\n",
       "      <td>2021-07-23T14:00:21Z</td>\n",
       "      <td>2021-07-24T00:00:00Z</td>\n",
       "    </tr>\n",
       "    <tr>\n",
       "      <th>70423</th>\n",
       "      <td>6H1YAQbgpGg</td>\n",
       "      <td>10</td>\n",
       "      <td>2021-07-23T02:00:10Z</td>\n",
       "      <td>2021-07-24T00:00:00Z</td>\n",
       "    </tr>\n",
       "    <tr>\n",
       "      <th>70604</th>\n",
       "      <td>y8tF0yRl8-w</td>\n",
       "      <td>10</td>\n",
       "      <td>2021-07-24T13:00:32Z</td>\n",
       "      <td>2021-07-25T00:00:00Z</td>\n",
       "    </tr>\n",
       "    <tr>\n",
       "      <th>70815</th>\n",
       "      <td>xp8PIwYXTiY</td>\n",
       "      <td>10</td>\n",
       "      <td>2021-07-25T09:00:12Z</td>\n",
       "      <td>2021-07-26T00:00:00Z</td>\n",
       "    </tr>\n",
       "    <tr>\n",
       "      <th>70836</th>\n",
       "      <td>q2sxw-_SU-s</td>\n",
       "      <td>10</td>\n",
       "      <td>2021-07-23T22:30:09Z</td>\n",
       "      <td>2021-07-26T00:00:00Z</td>\n",
       "    </tr>\n",
       "  </tbody>\n",
       "</table>\n",
       "<p>2285 rows × 4 columns</p>\n",
       "</div>"
      ]
     },
     "metadata": {},
     "execution_count": 39
    }
   ],
   "metadata": {}
  },
  {
   "cell_type": "markdown",
   "source": [
    "In order to find the mean amount of days it takes for a video to trend, there is a need to take the time difference of when it a video was first published and when it started trending. For ease of viewing, it will be plotted to a histogram."
   ],
   "metadata": {}
  },
  {
   "cell_type": "code",
   "execution_count": 40,
   "source": [
    "# convert timestamp String to Date and get the difference\r\n",
    "avg_time_to_trend24_df['deltaTime'] = pd.to_datetime(avg_time_to_trend24_df[\"trending_date\"]) - pd.to_datetime(avg_time_to_trend24_df[\"publishedAt\"])\r\n",
    "\r\n",
    "# compute for the precise amount of days\r\n",
    "components24_df = avg_time_to_trend24_df['deltaTime'].dt.components.copy()\r\n",
    "components24_df['preciseDays'] = components24_df['days'] + components24_df['hours'] / 60 + components24_df['minutes'] / (60*60) + components24_df['seconds'] / (60*60*60)\r\n",
    "avg_time_to_trend24_df['deltaDays'] = components24_df['preciseDays']\r\n",
    "\r\n",
    "# display in a histogram\r\n",
    "avg_time_to_trend24_df.hist('deltaDays', bins=30)\r\n",
    "plt.show()"
   ],
   "outputs": [
    {
     "output_type": "display_data",
     "data": {
      "text/plain": [
       "<Figure size 432x288 with 1 Axes>"
      ],
      "image/png": "[encoded data removed]"
     },
     "metadata": {
      "needs_background": "light"
     }
    }
   ],
   "metadata": {}
  },
  {
   "cell_type": "code",
   "execution_count": 41,
   "source": [
    "# convert timestamp String to Date and get the difference\r\n",
    "avg_time_to_trend10_df['deltaTime'] = pd.to_datetime(avg_time_to_trend10_df[\"trending_date\"]) - pd.to_datetime(avg_time_to_trend10_df[\"publishedAt\"])\r\n",
    "\r\n",
    "# compute for the precise amount of days\r\n",
    "components10_df = avg_time_to_trend10_df['deltaTime'].dt.components.copy()\r\n",
    "components10_df['preciseDays'] = components10_df['days'] + components10_df['hours'] / 60 + components10_df['minutes'] / (60*60) + components10_df['seconds'] / (60*60*60)\r\n",
    "avg_time_to_trend10_df['deltaDays'] = components10_df['preciseDays']\r\n",
    "\r\n",
    "# display in a histogram\r\n",
    "avg_time_to_trend10_df.hist('deltaDays', bins=30)\r\n",
    "plt.show()"
   ],
   "outputs": [
    {
     "output_type": "display_data",
     "data": {
      "text/plain": [
       "<Figure size 432x288 with 1 Axes>"
      ],
      "image/png": "[encoded data removed]"
     },
     "metadata": {
      "needs_background": "light"
     }
    }
   ],
   "metadata": {}
  },
  {
   "cell_type": "markdown",
   "source": [
    "The distribution for both entertainment and music categories appear to be positively skewed. Let us view some of their numerical summaries."
   ],
   "metadata": {}
  },
  {
   "cell_type": "code",
   "execution_count": 42,
   "source": [
    "# take mean days for a video to trend\r\n",
    "avg_time_to_trend24_df.agg({'deltaDays': [\"mean\", \"median\", \"std\", \"count\"]})"
   ],
   "outputs": [
    {
     "output_type": "execute_result",
     "data": {
      "text/plain": [
       "          deltaDays\n",
       "mean       0.626321\n",
       "median     0.198336\n",
       "std        1.041560\n",
       "count   2398.000000"
      ],
      "text/html": [
       "<div>\n",
       "<style scoped>\n",
       "    .dataframe tbody tr th:only-of-type {\n",
       "        vertical-align: middle;\n",
       "    }\n",
       "\n",
       "    .dataframe tbody tr th {\n",
       "        vertical-align: top;\n",
       "    }\n",
       "\n",
       "    .dataframe thead th {\n",
       "        text-align: right;\n",
       "    }\n",
       "</style>\n",
       "<table border=\"1\" class=\"dataframe\">\n",
       "  <thead>\n",
       "    <tr style=\"text-align: right;\">\n",
       "      <th></th>\n",
       "      <th>deltaDays</th>\n",
       "    </tr>\n",
       "  </thead>\n",
       "  <tbody>\n",
       "    <tr>\n",
       "      <th>mean</th>\n",
       "      <td>0.626321</td>\n",
       "    </tr>\n",
       "    <tr>\n",
       "      <th>median</th>\n",
       "      <td>0.198336</td>\n",
       "    </tr>\n",
       "    <tr>\n",
       "      <th>std</th>\n",
       "      <td>1.041560</td>\n",
       "    </tr>\n",
       "    <tr>\n",
       "      <th>count</th>\n",
       "      <td>2398.000000</td>\n",
       "    </tr>\n",
       "  </tbody>\n",
       "</table>\n",
       "</div>"
      ]
     },
     "metadata": {},
     "execution_count": 42
    }
   ],
   "metadata": {}
  },
  {
   "cell_type": "code",
   "execution_count": 43,
   "source": [
    "# take mean days for a video to trend\r\n",
    "avg_time_to_trend10_df.agg({'deltaDays': [\"mean\", \"median\", \"std\", \"count\"]})"
   ],
   "outputs": [
    {
     "output_type": "execute_result",
     "data": {
      "text/plain": [
       "          deltaDays\n",
       "mean       0.548406\n",
       "median     0.183264\n",
       "std        1.102433\n",
       "count   2285.000000"
      ],
      "text/html": [
       "<div>\n",
       "<style scoped>\n",
       "    .dataframe tbody tr th:only-of-type {\n",
       "        vertical-align: middle;\n",
       "    }\n",
       "\n",
       "    .dataframe tbody tr th {\n",
       "        vertical-align: top;\n",
       "    }\n",
       "\n",
       "    .dataframe thead th {\n",
       "        text-align: right;\n",
       "    }\n",
       "</style>\n",
       "<table border=\"1\" class=\"dataframe\">\n",
       "  <thead>\n",
       "    <tr style=\"text-align: right;\">\n",
       "      <th></th>\n",
       "      <th>deltaDays</th>\n",
       "    </tr>\n",
       "  </thead>\n",
       "  <tbody>\n",
       "    <tr>\n",
       "      <th>mean</th>\n",
       "      <td>0.548406</td>\n",
       "    </tr>\n",
       "    <tr>\n",
       "      <th>median</th>\n",
       "      <td>0.183264</td>\n",
       "    </tr>\n",
       "    <tr>\n",
       "      <th>std</th>\n",
       "      <td>1.102433</td>\n",
       "    </tr>\n",
       "    <tr>\n",
       "      <th>count</th>\n",
       "      <td>2285.000000</td>\n",
       "    </tr>\n",
       "  </tbody>\n",
       "</table>\n",
       "</div>"
      ]
     },
     "metadata": {},
     "execution_count": 43
    }
   ],
   "metadata": {}
  },
  {
   "cell_type": "markdown",
   "source": [
    "On average, it takes 0.63 days or 15.12 hours for entertainment videos to start trending while it takes 0.55 days or 13.2 hours for music videos to start trending."
   ],
   "metadata": {}
  },
  {
   "cell_type": "markdown",
   "source": [
    "## Statistical Inference"
   ],
   "metadata": {
    "id": "bUVmqPDkZ5P2"
   }
  },
  {
   "cell_type": "markdown",
   "source": [
    "### 1. Is there a significant difference between the amount of time it takes to trend between the category Music and the category Entertainment?"
   ],
   "metadata": {}
  },
  {
   "cell_type": "markdown",
   "source": [
    "### 2. Is there a difference in the number of trending videos per category between 06/25/21 and 07/25/21 ? "
   ],
   "metadata": {}
  },
  {
   "cell_type": "markdown",
   "source": [],
   "metadata": {}
  }
 ],
 "metadata": {
  "colab": {
   "collapsed_sections": [],
   "name": "Untitled0.ipynb",
   "provenance": [],
   "toc_visible": true
  },
  "kernelspec": {
   "name": "python3",
   "display_name": "Python 3.8.8 64-bit ('base': conda)"
  },
  "language_info": {
   "codemirror_mode": {
    "name": "ipython",
    "version": 3
   },
   "file_extension": ".py",
   "mimetype": "text/x-python",
   "name": "python",
   "nbconvert_exporter": "python",
   "pygments_lexer": "ipython3",
   "version": "3.8.8"
  },
  "interpreter": {
   "hash": "96eb50e1d44aed467dc8f759cb08c32fbfa9babcf79c554e2d0e5feb04653a10"
  }
 },
 "nbformat": 4,
 "nbformat_minor": 1
}
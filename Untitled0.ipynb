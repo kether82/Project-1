{
 "cells": [
  {
   "cell_type": "markdown",
   "source": [
    "## The Dataset\n",
    "The dataset to be utilized for this notebook is called `YouTube Trending Video Dataset`. It contains details for the daily top trending videos in 11 regions, namely: India, USA, Great Britain, Germany, Canada, France, Russia, Brazil, Mexico, South Korea, and, Japan. The data was collected directly through the Youtube API. As the data came from Youtube directly there should be little to noThe US dataset will be primarily used in this study. "
   ],
   "metadata": {
    "id": "2JCx46SKZMaz"
   }
  },
  {
   "cell_type": "code",
   "execution_count": 3,
   "source": [
    "import numpy as np\r\n",
    "import pandas as pd\r\n",
    "import matplotlib.pyplot as plt\r\n",
    "\r\n"
   ],
   "outputs": [],
   "metadata": {
    "id": "6SmPn47AgoRF"
   }
  },
  {
   "cell_type": "code",
   "execution_count": 4,
   "source": [
    "trending_US_df = pd.read_csv('dataset/US_youtube_trending_data.csv')"
   ],
   "outputs": [],
   "metadata": {
    "colab": {
     "base_uri": "https://localhost:8080/",
     "height": 404
    },
    "id": "heHESO_IgtzE",
    "outputId": "55c76054-2921-4c7b-ff67-ac76d1832e17"
   }
  },
  {
   "cell_type": "code",
   "execution_count": 5,
   "source": [
    "trending_US_df.info()"
   ],
   "outputs": [
    {
     "output_type": "stream",
     "name": "stdout",
     "text": [
      "<class 'pandas.core.frame.DataFrame'>\n",
      "RangeIndex: 70991 entries, 0 to 70990\n",
      "Data columns (total 16 columns):\n",
      " #   Column             Non-Null Count  Dtype \n",
      "---  ------             --------------  ----- \n",
      " 0   video_id           70991 non-null  object\n",
      " 1   title              70991 non-null  object\n",
      " 2   publishedAt        70991 non-null  object\n",
      " 3   channelId          70991 non-null  object\n",
      " 4   channelTitle       70991 non-null  object\n",
      " 5   categoryId         70991 non-null  int64 \n",
      " 6   trending_date      70991 non-null  object\n",
      " 7   tags               70991 non-null  object\n",
      " 8   view_count         70991 non-null  int64 \n",
      " 9   likes              70991 non-null  int64 \n",
      " 10  dislikes           70991 non-null  int64 \n",
      " 11  comment_count      70991 non-null  int64 \n",
      " 12  thumbnail_link     70991 non-null  object\n",
      " 13  comments_disabled  70991 non-null  bool  \n",
      " 14  ratings_disabled   70991 non-null  bool  \n",
      " 15  description        70163 non-null  object\n",
      "dtypes: bool(2), int64(5), object(9)\n",
      "memory usage: 7.7+ MB\n"
     ]
    }
   ],
   "metadata": {}
  },
  {
   "cell_type": "markdown",
   "source": [
    "Each row in the dataset representes a video while the columns are details or variables for each one. There are 70991 observations (rows) and 16 variables (columns). The following are descriptions for each variable.\n",
    "- **`video_id`**: unique video identifier\n",
    "- **`title`**: title of the video\n",
    "- **`publishedAt`**: timestamp of when the video was published \n",
    "- **`channelId`**: unique channel identifier\n",
    "- **`channelTitle`**: channel name\n",
    "- **`categoryId`**: an integer representing the video category; the legend for each number is found in a separate `.json` file\n",
    "- **`trending_date`**: the timestamp when the video went trending\n",
    "- **`tags`**: a string composed of all the tags attached to the video separated by the `|` character\n",
    "- **`view_count`**: number of views\n",
    "- **`likes`**: number of likes\n",
    "- **`dislikes`**: number of dislikes\n",
    "- **`comment_count`**: number of comments\n",
    "- **`thumbnail_link`**: a link to the video thumbnail\n",
    "- **`comments_disabled`**: a Boolean describing if comments are disabled or not\n",
    "- **`ratings_disabled`**: a Boolean describing if ratings are disabled or not\n",
    "- **`description`**: video description"
   ],
   "metadata": {}
  },
  {
   "cell_type": "markdown",
   "source": [
    "**Data Cleaning**"
   ],
   "metadata": {
    "id": "K3mjdvwCZsST"
   }
  },
  {
   "cell_type": "markdown",
   "source": [
    "**Exploratory Data Analysis**"
   ],
   "metadata": {
    "id": "UUE2buPTZsmi"
   }
  },
  {
   "cell_type": "markdown",
   "source": [
    "**Statistical Inference**"
   ],
   "metadata": {
    "id": "bUVmqPDkZ5P2"
   }
  }
 ],
 "metadata": {
  "colab": {
   "collapsed_sections": [],
   "name": "Untitled0.ipynb",
   "provenance": [],
   "toc_visible": true
  },
  "kernelspec": {
   "display_name": "Python 3",
   "language": "python",
   "name": "python3"
  },
  "language_info": {
   "codemirror_mode": {
    "name": "ipython",
    "version": 3
   },
   "file_extension": ".py",
   "mimetype": "text/x-python",
   "name": "python",
   "nbconvert_exporter": "python",
   "pygments_lexer": "ipython3",
   "version": "3.8.8"
  }
 },
 "nbformat": 4,
 "nbformat_minor": 1
}
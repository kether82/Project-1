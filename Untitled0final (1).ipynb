{
 "cells": [
  {
   "cell_type": "markdown",
   "source": [
    "## The Dataset\r\n",
    "The dataset to be utilized for this notebook is called `YouTube Trending Video Dataset`. It contains details for the daily top trending videos in 11 regions, namely: India, USA, Great Britain, Germany, Canada, France, Russia, Brazil, Mexico, South Korea, and, Japan from August 12 2020 until July 26 2021. The data was collected directly through the Youtube API. As the data came from Youtube directly, there should be no sampling error. The US dataset will be primarily used in this study. "
   ],
   "metadata": {
    "id": "2JCx46SKZMaz"
   }
  },
  {
   "cell_type": "markdown",
   "source": [
    "### Import Libraries"
   ],
   "metadata": {}
  },
  {
   "cell_type": "code",
   "execution_count": 59,
   "source": [
    "import numpy as np\r\n",
    "import pandas as pd\r\n",
    "import matplotlib.pyplot as plt\r\n",
    "from scipy.stats import norm\r\n",
    "from scipy.stats import ttest_ind\r\n",
    "from scipy.stats import chi2_contingency\r\n",
    "import math"
   ],
   "outputs": [],
   "metadata": {
    "id": "6SmPn47AgoRF"
   }
  },
  {
   "cell_type": "markdown",
   "source": [
    "### Importing the Dataset"
   ],
   "metadata": {}
  },
  {
   "cell_type": "code",
   "execution_count": 60,
   "source": [
    "trending_US_df = pd.read_csv('datasets/US_youtube_trending_data.csv')\r\n",
    "trending_US_df.info()"
   ],
   "outputs": [
    {
     "output_type": "stream",
     "name": "stdout",
     "text": [
      "<class 'pandas.core.frame.DataFrame'>\n",
      "RangeIndex: 70991 entries, 0 to 70990\n",
      "Data columns (total 16 columns):\n",
      " #   Column             Non-Null Count  Dtype \n",
      "---  ------             --------------  ----- \n",
      " 0   video_id           70991 non-null  object\n",
      " 1   title              70991 non-null  object\n",
      " 2   publishedAt        70991 non-null  object\n",
      " 3   channelId          70991 non-null  object\n",
      " 4   channelTitle       70991 non-null  object\n",
      " 5   categoryId         70991 non-null  int64 \n",
      " 6   trending_date      70991 non-null  object\n",
      " 7   tags               70991 non-null  object\n",
      " 8   view_count         70991 non-null  int64 \n",
      " 9   likes              70991 non-null  int64 \n",
      " 10  dislikes           70991 non-null  int64 \n",
      " 11  comment_count      70991 non-null  int64 \n",
      " 12  thumbnail_link     70991 non-null  object\n",
      " 13  comments_disabled  70991 non-null  bool  \n",
      " 14  ratings_disabled   70991 non-null  bool  \n",
      " 15  description        70163 non-null  object\n",
      "dtypes: bool(2), int64(5), object(9)\n",
      "memory usage: 7.7+ MB\n"
     ]
    }
   ],
   "metadata": {
    "colab": {
     "base_uri": "https://localhost:8080/",
     "height": 404
    },
    "id": "heHESO_IgtzE",
    "outputId": "55c76054-2921-4c7b-ff67-ac76d1832e17"
   }
  },
  {
   "cell_type": "markdown",
   "source": [
    "Each row in the dataset representes a video while the columns are details or variables for each one. There are 70991 observations (rows) and 16 variables (columns). The following are descriptions for each variable.\n",
    "- **`video_id`**: unique video identifier\n",
    "- **`title`**: title of the video\n",
    "- **`publishedAt`**: date and time of when the video was published in String form\n",
    "- **`channelId`**: unique channel identifier\n",
    "- **`channelTitle`**: channel name\n",
    "- **`categoryId`**: an integer representing the video category; the legend for each number is found in a separate `.json` file\n",
    "- **`trending_date`**: date and time of when the video went trending in String form\n",
    "- **`tags`**: a string composed of all the tags attached to the video separated by the `|` character\n",
    "- **`view_count`**: number of views\n",
    "- **`likes`**: number of likes\n",
    "- **`dislikes`**: number of dislikes\n",
    "- **`comment_count`**: number of comments\n",
    "- **`thumbnail_link`**: a link to the video thumbnail\n",
    "- **`comments_disabled`**: a Boolean describing if comments are disabled or not\n",
    "- **`ratings_disabled`**: a Boolean describing if ratings are disabled or not\n",
    "- **`description`**: video description"
   ],
   "metadata": {}
  },
  {
   "cell_type": "markdown",
   "source": [
    "The category legend from the `US_category_id.json` file are as follows:\n",
    "- 1: Film & Animation\n",
    "- 2: Autos & Vehicles\n",
    "- 10: Music\n",
    "- 15: Pets & Animals\n",
    "- 17: Sports\n",
    "- 18: Short Movies\n",
    "- 19: Travel & Events\n",
    "- 20: Gaming\n",
    "- 21: Videoblogging\n",
    "- 22: People & Blogs\n",
    "- 23: Comedy\n",
    "- 24: Entertainment\n",
    "- 25: News & Politics\n",
    "- 26: Howto & Style\n",
    "- 27: Education\n",
    "- 28: Science & Technology\n",
    "- 29: Nonprofits & Activism\n",
    "- 30: Movies\n",
    "- 31: Anime/Animation\n",
    "- 32: Action/Adventure\n",
    "- 33: Classics\n",
    "- 34: Comedy\n",
    "- 35: Documentary\n",
    "- 36: Drama\n",
    "- 37: Family\n",
    "- 38: Foreign\n",
    "- 39: Horror\n",
    "- 40: Sci-Fi/Fantasy\n",
    "- 41: Thriller\n",
    "- 42: Shorts\n",
    "- 43: Shows\n",
    "- 44: Trailers"
   ],
   "metadata": {}
  },
  {
   "cell_type": "markdown",
   "source": [
    "----\n",
    "## Data Cleaning and Preprocessing\n"
   ],
   "metadata": {}
  },
  {
   "cell_type": "markdown",
   "source": [
    "For the latter sections of this notebook, we will be using the variables *categoryId, trending_date, publishedAt, likes, and view_count*. First, we will verify that the data type is correct and uniform for these variables."
   ],
   "metadata": {}
  },
  {
   "cell_type": "code",
   "execution_count": 61,
   "source": [
    "trending_US_df.info()"
   ],
   "outputs": [
    {
     "output_type": "stream",
     "name": "stdout",
     "text": [
      "<class 'pandas.core.frame.DataFrame'>\n",
      "RangeIndex: 70991 entries, 0 to 70990\n",
      "Data columns (total 16 columns):\n",
      " #   Column             Non-Null Count  Dtype \n",
      "---  ------             --------------  ----- \n",
      " 0   video_id           70991 non-null  object\n",
      " 1   title              70991 non-null  object\n",
      " 2   publishedAt        70991 non-null  object\n",
      " 3   channelId          70991 non-null  object\n",
      " 4   channelTitle       70991 non-null  object\n",
      " 5   categoryId         70991 non-null  int64 \n",
      " 6   trending_date      70991 non-null  object\n",
      " 7   tags               70991 non-null  object\n",
      " 8   view_count         70991 non-null  int64 \n",
      " 9   likes              70991 non-null  int64 \n",
      " 10  dislikes           70991 non-null  int64 \n",
      " 11  comment_count      70991 non-null  int64 \n",
      " 12  thumbnail_link     70991 non-null  object\n",
      " 13  comments_disabled  70991 non-null  bool  \n",
      " 14  ratings_disabled   70991 non-null  bool  \n",
      " 15  description        70163 non-null  object\n",
      "dtypes: bool(2), int64(5), object(9)\n",
      "memory usage: 7.7+ MB\n"
     ]
    }
   ],
   "metadata": {}
  },
  {
   "cell_type": "code",
   "execution_count": 62,
   "source": [
    "trending_US_df.isnull().any()"
   ],
   "outputs": [
    {
     "output_type": "execute_result",
     "data": {
      "text/plain": [
       "video_id             False\n",
       "title                False\n",
       "publishedAt          False\n",
       "channelId            False\n",
       "channelTitle         False\n",
       "categoryId           False\n",
       "trending_date        False\n",
       "tags                 False\n",
       "view_count           False\n",
       "likes                False\n",
       "dislikes             False\n",
       "comment_count        False\n",
       "thumbnail_link       False\n",
       "comments_disabled    False\n",
       "ratings_disabled     False\n",
       "description           True\n",
       "dtype: bool"
      ]
     },
     "metadata": {},
     "execution_count": 62
    }
   ],
   "metadata": {}
  },
  {
   "cell_type": "markdown",
   "source": [
    "Since the variables *categoryId, trending_date, publishedAt, likes ,view_count* do not have any missing values, we next inspect if the categorical values need cleaning."
   ],
   "metadata": {}
  },
  {
   "cell_type": "code",
   "execution_count": 63,
   "source": [
    "trending_US_df[\"categoryId\"].unique()"
   ],
   "outputs": [
    {
     "output_type": "execute_result",
     "data": {
      "text/plain": [
       "array([22, 20, 24, 10, 26, 27, 23, 28,  1, 25, 17, 19, 15,  2, 29],\n",
       "      dtype=int64)"
      ]
     },
     "metadata": {},
     "execution_count": 63
    }
   ],
   "metadata": {}
  },
  {
   "cell_type": "markdown",
   "source": [
    "For ease of reading, we will be replacing these ID's with their respective names as stated in the legend above."
   ],
   "metadata": {}
  },
  {
   "cell_type": "code",
   "execution_count": 64,
   "source": [
    "trending_US_df.replace({\r\n",
    "1: \"Film & Animation\", 2: \"Autos & Vehicles\", 10: \"Music\",\r\n",
    "15: \"Pets & Animals\", 17: \"Sports\", 18: \"Short Movies\",\r\n",
    "19: \"Travel & Events\", 20: \"Gaming\", 21: \"Videoblogging\",\r\n",
    "22: \"People & Blogs\", 23: \"Comedy\", 24: \"Entertainment\",\r\n",
    "25: \"News & Politics\", 26: \"Howto & Style\", 27: \"Education\",\r\n",
    "28: \"Science & Technology\", 29: \"Nonprofits & Activism\", 30: \"Movies\",\r\n",
    "31: \"Anime/Animation\", 32: \"Action/Adventure\", 33: \"Classics\",\r\n",
    "34: \"Comedy\", 35: \"Documentary\", 36: \"Drama\",\r\n",
    "37: \"Family\", 38: \"Foreign\", 39: \"Horror\",\r\n",
    "40: \"Sci-Fi/Fantasy\", 41: \"Thriller\", 42: \"Shorts\",\r\n",
    "43: \"Shows\", 44: \"Trailers\"}, inplace=True)\r\n",
    "trending_US_df[\"categoryId\"].unique()"
   ],
   "outputs": [
    {
     "output_type": "execute_result",
     "data": {
      "text/plain": [
       "array(['People & Blogs', 'Gaming', 'Entertainment', 'Music',\n",
       "       'Howto & Style', 'Education', 'Comedy', 'Science & Technology',\n",
       "       'Film & Animation', 'News & Politics', 'Sports', 'Travel & Events',\n",
       "       'Pets & Animals', 'Autos & Vehicles', 'Nonprofits & Activism'],\n",
       "      dtype=object)"
      ]
     },
     "metadata": {},
     "execution_count": 64
    }
   ],
   "metadata": {}
  },
  {
   "cell_type": "code",
   "execution_count": 65,
   "source": [
    "trending_US_df['trending_date'].unique().size"
   ],
   "outputs": [
    {
     "output_type": "execute_result",
     "data": {
      "text/plain": [
       "335"
      ]
     },
     "metadata": {},
     "execution_count": 65
    }
   ],
   "metadata": {}
  },
  {
   "cell_type": "markdown",
   "source": [
    "It was mentioned that the data set contains trending video data from August 8 2020 until July 26 2021 but it is not complete. There are 349 days between those 2 dates but the count above reveals theere being only 335 unique dates meaning there are 14 days not accounted for."
   ],
   "metadata": {}
  },
  {
   "cell_type": "code",
   "execution_count": 66,
   "source": [
    "# trending_US_df[\"trending_date\"].unique()\r\n",
    "trending_US_df['trending_date'].sample(20)"
   ],
   "outputs": [
    {
     "output_type": "execute_result",
     "data": {
      "text/plain": [
       "60121    2021-06-09T00:00:00Z\n",
       "37263    2021-02-18T00:00:00Z\n",
       "28800    2021-01-07T00:00:00Z\n",
       "46986    2021-04-07T00:00:00Z\n",
       "44958    2021-03-28T00:00:00Z\n",
       "26006    2020-12-23T00:00:00Z\n",
       "43505    2021-03-21T00:00:00Z\n",
       "29455    2021-01-10T00:00:00Z\n",
       "60998    2021-06-11T00:00:00Z\n",
       "38872    2021-02-26T00:00:00Z\n",
       "3520     2020-08-29T00:00:00Z\n",
       "65339    2021-06-28T00:00:00Z\n",
       "62766    2021-06-15T00:00:00Z\n",
       "2254     2020-08-23T00:00:00Z\n",
       "277      2020-08-13T00:00:00Z\n",
       "36916    2021-02-16T00:00:00Z\n",
       "25439    2020-12-20T00:00:00Z\n",
       "54532    2021-05-15T00:00:00Z\n",
       "68113    2021-07-12T00:00:00Z\n",
       "10384    2020-10-02T00:00:00Z\n",
       "Name: trending_date, dtype: object"
      ]
     },
     "metadata": {},
     "execution_count": 66
    }
   ],
   "metadata": {}
  },
  {
   "cell_type": "code",
   "execution_count": 67,
   "source": [
    "# trending_US_df[\"publishedAt\"].unique()\r\n",
    "trending_US_df[\"publishedAt\"].sample(20)"
   ],
   "outputs": [
    {
     "output_type": "execute_result",
     "data": {
      "text/plain": [
       "42830    2021-03-15T03:43:14Z\n",
       "27707    2020-12-26T22:00:33Z\n",
       "38415    2021-02-23T09:00:13Z\n",
       "13637    2020-10-17T01:00:04Z\n",
       "14705    2020-10-20T09:00:13Z\n",
       "12887    2020-10-12T19:01:52Z\n",
       "16244    2020-11-01T02:58:24Z\n",
       "37535    2021-02-12T16:58:00Z\n",
       "17011    2020-11-06T05:00:01Z\n",
       "32917    2021-01-25T04:53:19Z\n",
       "42326    2021-03-11T04:44:35Z\n",
       "14880    2020-10-21T22:04:10Z\n",
       "34608    2021-02-03T03:14:07Z\n",
       "69537    2021-07-14T21:06:58Z\n",
       "16412    2020-11-03T09:00:12Z\n",
       "17596    2020-10-30T17:59:00Z\n",
       "66509    2021-06-29T19:25:40Z\n",
       "24768    2020-12-11T02:22:36Z\n",
       "59057    2021-06-03T16:46:28Z\n",
       "14611    2020-10-23T04:00:10Z\n",
       "Name: publishedAt, dtype: object"
      ]
     },
     "metadata": {},
     "execution_count": 67
    }
   ],
   "metadata": {}
  },
  {
   "cell_type": "markdown",
   "source": [
    "We were able to verify that there are no multiple representations in categoryId and the dates are formatted uniformly so we can proceed."
   ],
   "metadata": {}
  },
  {
   "cell_type": "markdown",
   "source": [
    "## Exploratory Data Analysis\n"
   ],
   "metadata": {
    "id": "UUE2buPTZsmi"
   }
  },
  {
   "cell_type": "markdown",
   "source": [
    "The dataset contains duplicate trending values for videos that were trending for multiple days.\n",
    "We should drop those duplicates as we should only count one trending video as one for it's category regardless of how many days it was trending.\n",
    "**Only EDA 1 and 2 will use this.**"
   ],
   "metadata": {}
  },
  {
   "cell_type": "code",
   "execution_count": 68,
   "source": [
    "trending_US_count_df_latest = trending_US_df.sort_values('view_count', ascending=False).drop_duplicates(['video_id'])\r\n",
    "trending_US_count_df = trending_US_count_df_latest"
   ],
   "outputs": [],
   "metadata": {}
  },
  {
   "cell_type": "markdown",
   "source": [
    "### 1. Which category has the most trending videos in the sample?\n"
   ],
   "metadata": {}
  },
  {
   "cell_type": "markdown",
   "source": [
    "We can check the number of unique observations per value of the categoryId variable using the value_count function on both the dataset.\n"
   ],
   "metadata": {}
  },
  {
   "cell_type": "code",
   "execution_count": 69,
   "source": [
    "trending_US_count_df = trending_US_df['categoryId'].value_counts()\r\n",
    "trending_US_count_df"
   ],
   "outputs": [
    {
     "output_type": "execute_result",
     "data": {
      "text/plain": [
       "Entertainment            14454\n",
       "Music                    13743\n",
       "Gaming                   10829\n",
       "Sports                    7874\n",
       "People & Blogs            6055\n",
       "Comedy                    3791\n",
       "Science & Technology      2728\n",
       "News & Politics           2719\n",
       "Film & Animation          2703\n",
       "Howto & Style             2553\n",
       "Education                 1522\n",
       "Autos & Vehicles          1287\n",
       "Pets & Animals             383\n",
       "Travel & Events            282\n",
       "Nonprofits & Activism       68\n",
       "Name: categoryId, dtype: int64"
      ]
     },
     "metadata": {},
     "execution_count": 69
    }
   ],
   "metadata": {}
  },
  {
   "cell_type": "markdown",
   "source": [
    "Let us create a bar plot to better show the count of the occurences per categoryId."
   ],
   "metadata": {}
  },
  {
   "cell_type": "code",
   "execution_count": 70,
   "source": [
    "trending_US_count_df.plot.bar()\r\n",
    "plt.xlabel('CategoryId')\r\n",
    "plt.ylabel('Count')\r\n",
    "plt.title('Video Trending count per categoryId')\r\n",
    "plt.show()"
   ],
   "outputs": [
    {
     "output_type": "display_data",
     "data": {
      "text/plain": [
       "<Figure size 432x288 with 1 Axes>"
      ],
      "image/png": "[encoded data removed]"
     },
     "metadata": {
      "needs_background": "light"
     }
    }
   ],
   "metadata": {}
  },
  {
   "cell_type": "markdown",
   "source": [
    "We can see from the graph above that category number Entertainment has the highest trending count with a total of 14454 trending videos in that category with category number Music behind it with a total of 13743 videos. **These top 2 categories will be used in the next questions.**"
   ],
   "metadata": {}
  },
  {
   "cell_type": "markdown",
   "source": [
    "### 2. Is there a correlation between the number of `likes` and `view_count` of the categories Music and Entertainment"
   ],
   "metadata": {}
  },
  {
   "cell_type": "markdown",
   "source": [
    "We drop the other columns as we only need video_id, likes, view_count and category"
   ],
   "metadata": {}
  },
  {
   "cell_type": "code",
   "execution_count": 71,
   "source": [
    "# only need video_id ,likes, view_count, category\r\n",
    "dataset_dropped= trending_US_count_df_maxViews.drop([\"title\", \"publishedAt\", \"channelId\", \"channelTitle\", \"trending_date\", \"tags\",\"dislikes\", \"comment_count\", \"thumbnail_link\", \"comments_disabled\", \"ratings_disabled\", \"description\"], axis=1)\r\n",
    "dataset_dropped.info()"
   ],
   "outputs": [
    {
     "output_type": "stream",
     "name": "stdout",
     "text": [
      "<class 'pandas.core.frame.DataFrame'>\n",
      "Int64Index: 11924 entries, 56374 to 48995\n",
      "Data columns (total 4 columns):\n",
      " #   Column      Non-Null Count  Dtype \n",
      "---  ------      --------------  ----- \n",
      " 0   video_id    11924 non-null  object\n",
      " 1   categoryId  11924 non-null  object\n",
      " 2   view_count  11924 non-null  int64 \n",
      " 3   likes       11924 non-null  object\n",
      "dtypes: int64(1), object(3)\n",
      "memory usage: 465.8+ KB\n"
     ]
    }
   ],
   "metadata": {}
  },
  {
   "cell_type": "code",
   "execution_count": 72,
   "source": [
    "# Create 2 dataframes that correspond to the dataframe of the top 2 categories\r\n",
    "dataset_top2_cat10 = dataset_dropped[dataset_dropped[\"categoryId\"]==\"Music\"]\r\n",
    "dataset_top2_cat24 = dataset_dropped[dataset_dropped[\"categoryId\"]==\"Entertainment\"]"
   ],
   "outputs": [],
   "metadata": {}
  },
  {
   "cell_type": "markdown",
   "source": [
    "We call the `corr` function with a `method = \"pearson\"` argument to compute for the pearson correlation coefficient"
   ],
   "metadata": {}
  },
  {
   "cell_type": "code",
   "execution_count": 73,
   "source": [
    "dataset_top2_cat10 = dataset_top2_cat10.replace({\"Music\": 10}, inplace=False)\r\n",
    "dataset_top2_cat10.corr(method = \"pearson\")"
   ],
   "outputs": [
    {
     "output_type": "execute_result",
     "data": {
      "text/plain": [
       "            categoryId  view_count     likes\n",
       "categoryId         NaN         NaN       NaN\n",
       "view_count         NaN    1.000000  0.901077\n",
       "likes              NaN    0.901077  1.000000"
      ],
      "text/html": [
       "<div>\n",
       "<style scoped>\n",
       "    .dataframe tbody tr th:only-of-type {\n",
       "        vertical-align: middle;\n",
       "    }\n",
       "\n",
       "    .dataframe tbody tr th {\n",
       "        vertical-align: top;\n",
       "    }\n",
       "\n",
       "    .dataframe thead th {\n",
       "        text-align: right;\n",
       "    }\n",
       "</style>\n",
       "<table border=\"1\" class=\"dataframe\">\n",
       "  <thead>\n",
       "    <tr style=\"text-align: right;\">\n",
       "      <th></th>\n",
       "      <th>categoryId</th>\n",
       "      <th>view_count</th>\n",
       "      <th>likes</th>\n",
       "    </tr>\n",
       "  </thead>\n",
       "  <tbody>\n",
       "    <tr>\n",
       "      <th>categoryId</th>\n",
       "      <td>NaN</td>\n",
       "      <td>NaN</td>\n",
       "      <td>NaN</td>\n",
       "    </tr>\n",
       "    <tr>\n",
       "      <th>view_count</th>\n",
       "      <td>NaN</td>\n",
       "      <td>1.000000</td>\n",
       "      <td>0.901077</td>\n",
       "    </tr>\n",
       "    <tr>\n",
       "      <th>likes</th>\n",
       "      <td>NaN</td>\n",
       "      <td>0.901077</td>\n",
       "      <td>1.000000</td>\n",
       "    </tr>\n",
       "  </tbody>\n",
       "</table>\n",
       "</div>"
      ]
     },
     "metadata": {},
     "execution_count": 73
    }
   ],
   "metadata": {}
  },
  {
   "cell_type": "markdown",
   "source": [
    "We plot the values of *view_count* on the *x-axis* with *likes* on the *y-axis*. The graph affirms our finding of a *positive 0.90 pearson correlation coefficient*. "
   ],
   "metadata": {}
  },
  {
   "cell_type": "code",
   "execution_count": 74,
   "source": [
    "plt.scatter(dataset_top2_cat10.view_count, dataset_top2_cat10.likes)\r\n",
    "plt.xlabel('view_count')\r\n",
    "plt.ylabel('likes')\r\n",
    "plt.show()"
   ],
   "outputs": [
    {
     "output_type": "display_data",
     "data": {
      "text/plain": [
       "<Figure size 432x288 with 1 Axes>"
      ],
      "image/png": "[encoded data removed]"
     },
     "metadata": {
      "needs_background": "light"
     }
    }
   ],
   "metadata": {}
  },
  {
   "cell_type": "code",
   "execution_count": 75,
   "source": [
    "dataset_top2_cat24 = dataset_top2_cat24.replace({\"Entertainment\": 24}, inplace=False)\r\n",
    "dataset_top2_cat24.corr(method =\"pearson\")"
   ],
   "outputs": [
    {
     "output_type": "execute_result",
     "data": {
      "text/plain": [
       "            categoryId  view_count     likes\n",
       "categoryId         NaN         NaN       NaN\n",
       "view_count         NaN    1.000000  0.876544\n",
       "likes              NaN    0.876544  1.000000"
      ],
      "text/html": [
       "<div>\n",
       "<style scoped>\n",
       "    .dataframe tbody tr th:only-of-type {\n",
       "        vertical-align: middle;\n",
       "    }\n",
       "\n",
       "    .dataframe tbody tr th {\n",
       "        vertical-align: top;\n",
       "    }\n",
       "\n",
       "    .dataframe thead th {\n",
       "        text-align: right;\n",
       "    }\n",
       "</style>\n",
       "<table border=\"1\" class=\"dataframe\">\n",
       "  <thead>\n",
       "    <tr style=\"text-align: right;\">\n",
       "      <th></th>\n",
       "      <th>categoryId</th>\n",
       "      <th>view_count</th>\n",
       "      <th>likes</th>\n",
       "    </tr>\n",
       "  </thead>\n",
       "  <tbody>\n",
       "    <tr>\n",
       "      <th>categoryId</th>\n",
       "      <td>NaN</td>\n",
       "      <td>NaN</td>\n",
       "      <td>NaN</td>\n",
       "    </tr>\n",
       "    <tr>\n",
       "      <th>view_count</th>\n",
       "      <td>NaN</td>\n",
       "      <td>1.000000</td>\n",
       "      <td>0.876544</td>\n",
       "    </tr>\n",
       "    <tr>\n",
       "      <th>likes</th>\n",
       "      <td>NaN</td>\n",
       "      <td>0.876544</td>\n",
       "      <td>1.000000</td>\n",
       "    </tr>\n",
       "  </tbody>\n",
       "</table>\n",
       "</div>"
      ]
     },
     "metadata": {},
     "execution_count": 75
    }
   ],
   "metadata": {}
  },
  {
   "cell_type": "markdown",
   "source": [
    "Just like before, we plot the values of *view_count* on the *x-axis* with *likes* on the *y-axis*. The graph affirms our finding of a *positive 0.876 pearson correlation coefficient.*"
   ],
   "metadata": {}
  },
  {
   "cell_type": "code",
   "execution_count": 76,
   "source": [
    "plt.scatter(dataset_top2_cat24.view_count,dataset_top2_cat24.likes)\r\n",
    "plt.xlabel('view_count')\r\n",
    "plt.ylabel('likes')\r\n",
    "plt.show()"
   ],
   "outputs": [
    {
     "output_type": "display_data",
     "data": {
      "text/plain": [
       "<Figure size 432x288 with 1 Axes>"
      ],
      "image/png": "[encoded data removed]"
     },
     "metadata": {
      "needs_background": "light"
     }
    }
   ],
   "metadata": {}
  },
  {
   "cell_type": "markdown",
   "source": [
    "### 3. How many days on average does it take for videos of the entertainment and music categories respectively to start trending in the US?"
   ],
   "metadata": {}
  },
  {
   "cell_type": "markdown",
   "source": [
    "The variables of interest to answer this question are the following: \n",
    "- **`video_id`**: unique video identifier\n",
    "- **`categoryId`**: the video category\n",
    "- **`publishedAt`**: date and time of when the video was published as a String\n",
    "- **`trending_date`**: date and time of when the video went trending as a String"
   ],
   "metadata": {}
  },
  {
   "cell_type": "markdown",
   "source": [
    "As the data set contains duplicate entries for videos that trend for multiple days, we will be taking the earliest recorded entry for this question."
   ],
   "metadata": {}
  },
  {
   "cell_type": "code",
   "execution_count": 77,
   "source": [
    "# take relevant portion of dataframe\r\n",
    "avg_time_to_trend24_df = trending_US_df.loc[(trending_US_df['categoryId'] == \"Entertainment\"), ['video_id', 'categoryId', 'publishedAt', 'trending_date']]\r\n",
    "\r\n",
    "# remove duplicates and keep the entry that has the earliest trending date\r\n",
    "avg_time_to_trend24_df = avg_time_to_trend24_df.sort_values('trending_date', ascending=True).drop_duplicates(['video_id'])\r\n",
    "avg_time_to_trend24_df"
   ],
   "outputs": [
    {
     "output_type": "execute_result",
     "data": {
      "text/plain": [
       "          video_id     categoryId           publishedAt         trending_date\n",
       "2      J78aPJ3VyNs  Entertainment  2020-08-11T16:34:06Z  2020-08-12T00:00:00Z\n",
       "123    lw68FF0GEX8  Entertainment  2020-08-09T18:42:44Z  2020-08-12T00:00:00Z\n",
       "125    YIlhmtpDjmo  Entertainment  2020-08-08T18:30:02Z  2020-08-12T00:00:00Z\n",
       "131    LI1hCQ-6P0Y  Entertainment  2020-08-08T19:00:11Z  2020-08-12T00:00:00Z\n",
       "142    -n8IrFPSFCU  Entertainment  2020-08-07T19:14:02Z  2020-08-12T00:00:00Z\n",
       "...            ...            ...                   ...                   ...\n",
       "70816  8b-gexMf0EY  Entertainment  2021-07-25T01:10:25Z  2021-07-26T00:00:00Z\n",
       "70823  C1WtkPkCvK4  Entertainment  2021-07-24T14:46:59Z  2021-07-26T00:00:00Z\n",
       "70824  bG5OVLBLBFw  Entertainment  2021-07-24T15:06:34Z  2021-07-26T00:00:00Z\n",
       "70829  vHC1UGwrWeo  Entertainment  2021-07-24T15:30:11Z  2021-07-26T00:00:00Z\n",
       "70834  CqumfFNR5Hk  Entertainment  2021-07-24T19:16:34Z  2021-07-26T00:00:00Z\n",
       "\n",
       "[2398 rows x 4 columns]"
      ],
      "text/html": [
       "<div>\n",
       "<style scoped>\n",
       "    .dataframe tbody tr th:only-of-type {\n",
       "        vertical-align: middle;\n",
       "    }\n",
       "\n",
       "    .dataframe tbody tr th {\n",
       "        vertical-align: top;\n",
       "    }\n",
       "\n",
       "    .dataframe thead th {\n",
       "        text-align: right;\n",
       "    }\n",
       "</style>\n",
       "<table border=\"1\" class=\"dataframe\">\n",
       "  <thead>\n",
       "    <tr style=\"text-align: right;\">\n",
       "      <th></th>\n",
       "      <th>video_id</th>\n",
       "      <th>categoryId</th>\n",
       "      <th>publishedAt</th>\n",
       "      <th>trending_date</th>\n",
       "    </tr>\n",
       "  </thead>\n",
       "  <tbody>\n",
       "    <tr>\n",
       "      <th>2</th>\n",
       "      <td>J78aPJ3VyNs</td>\n",
       "      <td>Entertainment</td>\n",
       "      <td>2020-08-11T16:34:06Z</td>\n",
       "      <td>2020-08-12T00:00:00Z</td>\n",
       "    </tr>\n",
       "    <tr>\n",
       "      <th>123</th>\n",
       "      <td>lw68FF0GEX8</td>\n",
       "      <td>Entertainment</td>\n",
       "      <td>2020-08-09T18:42:44Z</td>\n",
       "      <td>2020-08-12T00:00:00Z</td>\n",
       "    </tr>\n",
       "    <tr>\n",
       "      <th>125</th>\n",
       "      <td>YIlhmtpDjmo</td>\n",
       "      <td>Entertainment</td>\n",
       "      <td>2020-08-08T18:30:02Z</td>\n",
       "      <td>2020-08-12T00:00:00Z</td>\n",
       "    </tr>\n",
       "    <tr>\n",
       "      <th>131</th>\n",
       "      <td>LI1hCQ-6P0Y</td>\n",
       "      <td>Entertainment</td>\n",
       "      <td>2020-08-08T19:00:11Z</td>\n",
       "      <td>2020-08-12T00:00:00Z</td>\n",
       "    </tr>\n",
       "    <tr>\n",
       "      <th>142</th>\n",
       "      <td>-n8IrFPSFCU</td>\n",
       "      <td>Entertainment</td>\n",
       "      <td>2020-08-07T19:14:02Z</td>\n",
       "      <td>2020-08-12T00:00:00Z</td>\n",
       "    </tr>\n",
       "    <tr>\n",
       "      <th>...</th>\n",
       "      <td>...</td>\n",
       "      <td>...</td>\n",
       "      <td>...</td>\n",
       "      <td>...</td>\n",
       "    </tr>\n",
       "    <tr>\n",
       "      <th>70816</th>\n",
       "      <td>8b-gexMf0EY</td>\n",
       "      <td>Entertainment</td>\n",
       "      <td>2021-07-25T01:10:25Z</td>\n",
       "      <td>2021-07-26T00:00:00Z</td>\n",
       "    </tr>\n",
       "    <tr>\n",
       "      <th>70823</th>\n",
       "      <td>C1WtkPkCvK4</td>\n",
       "      <td>Entertainment</td>\n",
       "      <td>2021-07-24T14:46:59Z</td>\n",
       "      <td>2021-07-26T00:00:00Z</td>\n",
       "    </tr>\n",
       "    <tr>\n",
       "      <th>70824</th>\n",
       "      <td>bG5OVLBLBFw</td>\n",
       "      <td>Entertainment</td>\n",
       "      <td>2021-07-24T15:06:34Z</td>\n",
       "      <td>2021-07-26T00:00:00Z</td>\n",
       "    </tr>\n",
       "    <tr>\n",
       "      <th>70829</th>\n",
       "      <td>vHC1UGwrWeo</td>\n",
       "      <td>Entertainment</td>\n",
       "      <td>2021-07-24T15:30:11Z</td>\n",
       "      <td>2021-07-26T00:00:00Z</td>\n",
       "    </tr>\n",
       "    <tr>\n",
       "      <th>70834</th>\n",
       "      <td>CqumfFNR5Hk</td>\n",
       "      <td>Entertainment</td>\n",
       "      <td>2021-07-24T19:16:34Z</td>\n",
       "      <td>2021-07-26T00:00:00Z</td>\n",
       "    </tr>\n",
       "  </tbody>\n",
       "</table>\n",
       "<p>2398 rows × 4 columns</p>\n",
       "</div>"
      ]
     },
     "metadata": {},
     "execution_count": 77
    }
   ],
   "metadata": {}
  },
  {
   "cell_type": "code",
   "execution_count": 78,
   "source": [
    "# take relevant portion of dataframe\r\n",
    "avg_time_to_trend10_df = trending_US_df.loc[(trending_US_df['categoryId'] == \"Music\"), ['video_id', 'categoryId', 'publishedAt', 'trending_date']]\r\n",
    "\r\n",
    "# remove duplicates and keep the entry that has the earliest trending date\r\n",
    "avg_time_to_trend10_df = avg_time_to_trend10_df.sort_values('trending_date', ascending=True).drop_duplicates(['video_id'])\r\n",
    "avg_time_to_trend10_df"
   ],
   "outputs": [
    {
     "output_type": "execute_result",
     "data": {
      "text/plain": [
       "          video_id categoryId           publishedAt         trending_date\n",
       "3      kXLn3HkpjaA      Music  2020-08-11T16:38:55Z  2020-08-12T00:00:00Z\n",
       "138    bpmGuPhGE0Y      Music  2020-08-07T04:53:18Z  2020-08-12T00:00:00Z\n",
       "140    HkTTPu_p2ps      Music  2020-08-08T17:00:25Z  2020-08-12T00:00:00Z\n",
       "141    4UiaCC01Vwk      Music  2020-08-08T15:00:11Z  2020-08-12T00:00:00Z\n",
       "149    6i01tOMgBDU      Music  2020-08-07T17:00:11Z  2020-08-12T00:00:00Z\n",
       "...            ...        ...                   ...                   ...\n",
       "70439  yJDGK9z6tFQ      Music  2021-07-23T14:00:21Z  2021-07-24T00:00:00Z\n",
       "70423  6H1YAQbgpGg      Music  2021-07-23T02:00:10Z  2021-07-24T00:00:00Z\n",
       "70604  y8tF0yRl8-w      Music  2021-07-24T13:00:32Z  2021-07-25T00:00:00Z\n",
       "70815  xp8PIwYXTiY      Music  2021-07-25T09:00:12Z  2021-07-26T00:00:00Z\n",
       "70836  q2sxw-_SU-s      Music  2021-07-23T22:30:09Z  2021-07-26T00:00:00Z\n",
       "\n",
       "[2285 rows x 4 columns]"
      ],
      "text/html": [
       "<div>\n",
       "<style scoped>\n",
       "    .dataframe tbody tr th:only-of-type {\n",
       "        vertical-align: middle;\n",
       "    }\n",
       "\n",
       "    .dataframe tbody tr th {\n",
       "        vertical-align: top;\n",
       "    }\n",
       "\n",
       "    .dataframe thead th {\n",
       "        text-align: right;\n",
       "    }\n",
       "</style>\n",
       "<table border=\"1\" class=\"dataframe\">\n",
       "  <thead>\n",
       "    <tr style=\"text-align: right;\">\n",
       "      <th></th>\n",
       "      <th>video_id</th>\n",
       "      <th>categoryId</th>\n",
       "      <th>publishedAt</th>\n",
       "      <th>trending_date</th>\n",
       "    </tr>\n",
       "  </thead>\n",
       "  <tbody>\n",
       "    <tr>\n",
       "      <th>3</th>\n",
       "      <td>kXLn3HkpjaA</td>\n",
       "      <td>Music</td>\n",
       "      <td>2020-08-11T16:38:55Z</td>\n",
       "      <td>2020-08-12T00:00:00Z</td>\n",
       "    </tr>\n",
       "    <tr>\n",
       "      <th>138</th>\n",
       "      <td>bpmGuPhGE0Y</td>\n",
       "      <td>Music</td>\n",
       "      <td>2020-08-07T04:53:18Z</td>\n",
       "      <td>2020-08-12T00:00:00Z</td>\n",
       "    </tr>\n",
       "    <tr>\n",
       "      <th>140</th>\n",
       "      <td>HkTTPu_p2ps</td>\n",
       "      <td>Music</td>\n",
       "      <td>2020-08-08T17:00:25Z</td>\n",
       "      <td>2020-08-12T00:00:00Z</td>\n",
       "    </tr>\n",
       "    <tr>\n",
       "      <th>141</th>\n",
       "      <td>4UiaCC01Vwk</td>\n",
       "      <td>Music</td>\n",
       "      <td>2020-08-08T15:00:11Z</td>\n",
       "      <td>2020-08-12T00:00:00Z</td>\n",
       "    </tr>\n",
       "    <tr>\n",
       "      <th>149</th>\n",
       "      <td>6i01tOMgBDU</td>\n",
       "      <td>Music</td>\n",
       "      <td>2020-08-07T17:00:11Z</td>\n",
       "      <td>2020-08-12T00:00:00Z</td>\n",
       "    </tr>\n",
       "    <tr>\n",
       "      <th>...</th>\n",
       "      <td>...</td>\n",
       "      <td>...</td>\n",
       "      <td>...</td>\n",
       "      <td>...</td>\n",
       "    </tr>\n",
       "    <tr>\n",
       "      <th>70439</th>\n",
       "      <td>yJDGK9z6tFQ</td>\n",
       "      <td>Music</td>\n",
       "      <td>2021-07-23T14:00:21Z</td>\n",
       "      <td>2021-07-24T00:00:00Z</td>\n",
       "    </tr>\n",
       "    <tr>\n",
       "      <th>70423</th>\n",
       "      <td>6H1YAQbgpGg</td>\n",
       "      <td>Music</td>\n",
       "      <td>2021-07-23T02:00:10Z</td>\n",
       "      <td>2021-07-24T00:00:00Z</td>\n",
       "    </tr>\n",
       "    <tr>\n",
       "      <th>70604</th>\n",
       "      <td>y8tF0yRl8-w</td>\n",
       "      <td>Music</td>\n",
       "      <td>2021-07-24T13:00:32Z</td>\n",
       "      <td>2021-07-25T00:00:00Z</td>\n",
       "    </tr>\n",
       "    <tr>\n",
       "      <th>70815</th>\n",
       "      <td>xp8PIwYXTiY</td>\n",
       "      <td>Music</td>\n",
       "      <td>2021-07-25T09:00:12Z</td>\n",
       "      <td>2021-07-26T00:00:00Z</td>\n",
       "    </tr>\n",
       "    <tr>\n",
       "      <th>70836</th>\n",
       "      <td>q2sxw-_SU-s</td>\n",
       "      <td>Music</td>\n",
       "      <td>2021-07-23T22:30:09Z</td>\n",
       "      <td>2021-07-26T00:00:00Z</td>\n",
       "    </tr>\n",
       "  </tbody>\n",
       "</table>\n",
       "<p>2285 rows × 4 columns</p>\n",
       "</div>"
      ]
     },
     "metadata": {},
     "execution_count": 78
    }
   ],
   "metadata": {}
  },
  {
   "cell_type": "markdown",
   "source": [
    "In order to find the mean amount of days it takes for a video to trend, there is a need to take the time difference of when the video was first published and when it started trending. For ease of viewing, it will be plotted to a histogram."
   ],
   "metadata": {}
  },
  {
   "cell_type": "code",
   "execution_count": 79,
   "source": [
    "# convert timestamp String to Date and get the difference\r\n",
    "avg_time_to_trend24_df['deltaTime'] = pd.to_datetime(avg_time_to_trend24_df[\"trending_date\"]) - pd.to_datetime(avg_time_to_trend24_df[\"publishedAt\"])\r\n",
    "\r\n",
    "# compute for the precise amount of days\r\n",
    "components24_df = avg_time_to_trend24_df['deltaTime'].dt.components.copy()\r\n",
    "components24_df['preciseDays'] = components24_df['days'] + components24_df['hours'] / 24 + components24_df['minutes'] / (24*60) + components24_df['seconds'] / (24*60*60)\r\n",
    "avg_time_to_trend24_df['deltaDays'] = components24_df['preciseDays']\r\n",
    "\r\n",
    "# display in a histogram\r\n",
    "avg_time_to_trend24_df.hist('deltaDays', bins=30)\r\n",
    "plt.xlabel('days taken')\r\n",
    "plt.ylabel('number of videos')\r\n",
    "plt.show()"
   ],
   "outputs": [
    {
     "output_type": "display_data",
     "data": {
      "text/plain": [
       "<Figure size 432x288 with 1 Axes>"
      ],
      "image/png": "[encoded data removed]"
     },
     "metadata": {
      "needs_background": "light"
     }
    }
   ],
   "metadata": {}
  },
  {
   "cell_type": "code",
   "execution_count": 80,
   "source": [
    "# convert timestamp String to Date and get the difference\r\n",
    "avg_time_to_trend10_df['deltaTime'] = pd.to_datetime(avg_time_to_trend10_df[\"trending_date\"]) - pd.to_datetime(avg_time_to_trend10_df[\"publishedAt\"])\r\n",
    "\r\n",
    "# compute for the precise amount of days\r\n",
    "components10_df = avg_time_to_trend10_df['deltaTime'].dt.components.copy()\r\n",
    "components10_df['preciseDays'] = components10_df['days'] + components10_df['hours'] / 24 + components10_df['minutes'] / (24*60) + components10_df['seconds'] / (24*60*60)\r\n",
    "avg_time_to_trend10_df['deltaDays'] = components10_df['preciseDays']\r\n",
    "\r\n",
    "# display in a histogram\r\n",
    "avg_time_to_trend10_df.hist('deltaDays', bins=30)\r\n",
    "plt.xlabel('days taken')\r\n",
    "plt.ylabel('number of videos')\r\n",
    "plt.show()"
   ],
   "outputs": [
    {
     "output_type": "display_data",
     "data": {
      "text/plain": [
       "<Figure size 432x288 with 1 Axes>"
      ],
      "image/png": "[encoded data removed]"
     },
     "metadata": {
      "needs_background": "light"
     }
    }
   ],
   "metadata": {}
  },
  {
   "cell_type": "markdown",
   "source": [
    "The distribution for both entertainment and music categories appear to be positively skewed. Let us view some of their numerical summaries."
   ],
   "metadata": {}
  },
  {
   "cell_type": "code",
   "execution_count": 81,
   "source": [
    "# take mean days for a video to trend\r\n",
    "avg_time_to_trend24_df.agg({'deltaDays': [\"mean\", \"median\", \"std\", \"count\"]})"
   ],
   "outputs": [
    {
     "output_type": "execute_result",
     "data": {
      "text/plain": [
       "          deltaDays\n",
       "mean       0.860214\n",
       "median     0.495839\n",
       "std        1.026019\n",
       "count   2398.000000"
      ],
      "text/html": [
       "<div>\n",
       "<style scoped>\n",
       "    .dataframe tbody tr th:only-of-type {\n",
       "        vertical-align: middle;\n",
       "    }\n",
       "\n",
       "    .dataframe tbody tr th {\n",
       "        vertical-align: top;\n",
       "    }\n",
       "\n",
       "    .dataframe thead th {\n",
       "        text-align: right;\n",
       "    }\n",
       "</style>\n",
       "<table border=\"1\" class=\"dataframe\">\n",
       "  <thead>\n",
       "    <tr style=\"text-align: right;\">\n",
       "      <th></th>\n",
       "      <th>deltaDays</th>\n",
       "    </tr>\n",
       "  </thead>\n",
       "  <tbody>\n",
       "    <tr>\n",
       "      <th>mean</th>\n",
       "      <td>0.860214</td>\n",
       "    </tr>\n",
       "    <tr>\n",
       "      <th>median</th>\n",
       "      <td>0.495839</td>\n",
       "    </tr>\n",
       "    <tr>\n",
       "      <th>std</th>\n",
       "      <td>1.026019</td>\n",
       "    </tr>\n",
       "    <tr>\n",
       "      <th>count</th>\n",
       "      <td>2398.000000</td>\n",
       "    </tr>\n",
       "  </tbody>\n",
       "</table>\n",
       "</div>"
      ]
     },
     "metadata": {},
     "execution_count": 81
    }
   ],
   "metadata": {}
  },
  {
   "cell_type": "code",
   "execution_count": 82,
   "source": [
    "# take mean days for a video to trend\r\n",
    "avg_time_to_trend10_df.agg({'deltaDays': [\"mean\", \"median\", \"std\", \"count\"]})"
   ],
   "outputs": [
    {
     "output_type": "execute_result",
     "data": {
      "text/plain": [
       "          deltaDays\n",
       "mean       0.839944\n",
       "median     0.458160\n",
       "std        1.084222\n",
       "count   2285.000000"
      ],
      "text/html": [
       "<div>\n",
       "<style scoped>\n",
       "    .dataframe tbody tr th:only-of-type {\n",
       "        vertical-align: middle;\n",
       "    }\n",
       "\n",
       "    .dataframe tbody tr th {\n",
       "        vertical-align: top;\n",
       "    }\n",
       "\n",
       "    .dataframe thead th {\n",
       "        text-align: right;\n",
       "    }\n",
       "</style>\n",
       "<table border=\"1\" class=\"dataframe\">\n",
       "  <thead>\n",
       "    <tr style=\"text-align: right;\">\n",
       "      <th></th>\n",
       "      <th>deltaDays</th>\n",
       "    </tr>\n",
       "  </thead>\n",
       "  <tbody>\n",
       "    <tr>\n",
       "      <th>mean</th>\n",
       "      <td>0.839944</td>\n",
       "    </tr>\n",
       "    <tr>\n",
       "      <th>median</th>\n",
       "      <td>0.458160</td>\n",
       "    </tr>\n",
       "    <tr>\n",
       "      <th>std</th>\n",
       "      <td>1.084222</td>\n",
       "    </tr>\n",
       "    <tr>\n",
       "      <th>count</th>\n",
       "      <td>2285.000000</td>\n",
       "    </tr>\n",
       "  </tbody>\n",
       "</table>\n",
       "</div>"
      ]
     },
     "metadata": {},
     "execution_count": 82
    }
   ],
   "metadata": {}
  },
  {
   "cell_type": "markdown",
   "source": [
    "On average, it takes 0.86 days or 20.64 hours for entertainment videos to start trending while it takes 0.84 days or 20.16 hours for music videos to start trending."
   ],
   "metadata": {}
  },
  {
   "cell_type": "markdown",
   "source": [
    "## Statistical Inference"
   ],
   "metadata": {
    "id": "bUVmqPDkZ5P2"
   }
  },
  {
   "cell_type": "markdown",
   "source": [
    "### 1. Is there a significant difference between the amount of time it takes to trend between the entertainment and music categories?"
   ],
   "metadata": {}
  },
  {
   "cell_type": "markdown",
   "source": [
    "This allows us to see which whether there is a difference in virality between these 2 categories. This information provides a glimpse into how content types could affect the rate at which a video spreads."
   ],
   "metadata": {}
  },
  {
   "cell_type": "code",
   "execution_count": 83,
   "source": [
    "avg_time_to_trend_df = pd.concat([avg_time_to_trend24_df, avg_time_to_trend10_df])\r\n",
    "avg_time_to_trend_df.groupby(\"categoryId\").boxplot(column=\"deltaDays\")\r\n",
    "plt.show()"
   ],
   "outputs": [
    {
     "output_type": "display_data",
     "data": {
      "text/plain": [
       "<Figure size 432x288 with 2 Axes>"
      ],
      "image/png": "[encoded data removed]"
     },
     "metadata": {
      "needs_background": "light"
     }
    }
   ],
   "metadata": {}
  },
  {
   "cell_type": "code",
   "execution_count": 84,
   "source": [
    "summary_stat = avg_time_to_trend_df.groupby(\"categoryId\").agg({\"deltaDays\": [\"mean\", \"median\", \"std\", len]})\r\n",
    "summary_stat"
   ],
   "outputs": [
    {
     "output_type": "execute_result",
     "data": {
      "text/plain": [
       "              deltaDays                            \n",
       "                   mean    median       std     len\n",
       "categoryId                                         \n",
       "Entertainment  0.860214  0.495839  1.026019  2398.0\n",
       "Music          0.839944  0.458160  1.084222  2285.0"
      ],
      "text/html": [
       "<div>\n",
       "<style scoped>\n",
       "    .dataframe tbody tr th:only-of-type {\n",
       "        vertical-align: middle;\n",
       "    }\n",
       "\n",
       "    .dataframe tbody tr th {\n",
       "        vertical-align: top;\n",
       "    }\n",
       "\n",
       "    .dataframe thead tr th {\n",
       "        text-align: left;\n",
       "    }\n",
       "\n",
       "    .dataframe thead tr:last-of-type th {\n",
       "        text-align: right;\n",
       "    }\n",
       "</style>\n",
       "<table border=\"1\" class=\"dataframe\">\n",
       "  <thead>\n",
       "    <tr>\n",
       "      <th></th>\n",
       "      <th colspan=\"4\" halign=\"left\">deltaDays</th>\n",
       "    </tr>\n",
       "    <tr>\n",
       "      <th></th>\n",
       "      <th>mean</th>\n",
       "      <th>median</th>\n",
       "      <th>std</th>\n",
       "      <th>len</th>\n",
       "    </tr>\n",
       "    <tr>\n",
       "      <th>categoryId</th>\n",
       "      <th></th>\n",
       "      <th></th>\n",
       "      <th></th>\n",
       "      <th></th>\n",
       "    </tr>\n",
       "  </thead>\n",
       "  <tbody>\n",
       "    <tr>\n",
       "      <th>Entertainment</th>\n",
       "      <td>0.860214</td>\n",
       "      <td>0.495839</td>\n",
       "      <td>1.026019</td>\n",
       "      <td>2398.0</td>\n",
       "    </tr>\n",
       "    <tr>\n",
       "      <th>Music</th>\n",
       "      <td>0.839944</td>\n",
       "      <td>0.458160</td>\n",
       "      <td>1.084222</td>\n",
       "      <td>2285.0</td>\n",
       "    </tr>\n",
       "  </tbody>\n",
       "</table>\n",
       "</div>"
      ]
     },
     "metadata": {},
     "execution_count": 84
    }
   ],
   "metadata": {}
  },
  {
   "cell_type": "markdown",
   "source": [
    "Looking at the boxplot and the aggregate statistics, the music category seems to take less time to trend. We will now conduct a hypothesis test to determine whether that difference is statistically significant."
   ],
   "metadata": {}
  },
  {
   "cell_type": "markdown",
   "source": [
    "Hypotheses:\n",
    "\n",
    "$H_0$ (null hypothesis): The true difference is 0.\n",
    "\n",
    "$H_A$ (alternative hypothesis): The true difference is not 0."
   ],
   "metadata": {}
  },
  {
   "cell_type": "code",
   "execution_count": 85,
   "source": [
    "ttest_results = ttest_ind(avg_time_to_trend24_df[\"deltaDays\"],\r\n",
    "                  avg_time_to_trend10_df[\"deltaDays\"],\r\n",
    "                  equal_var = False)\r\n",
    "print('T-score: {:.2f}'.format(ttest_results.statistic))\r\n",
    "print('p-value: {:.2f}'.format(ttest_results.pvalue))"
   ],
   "outputs": [
    {
     "output_type": "stream",
     "name": "stdout",
     "text": [
      "T-score: 0.66\n",
      "p-value: 0.51\n"
     ]
    }
   ],
   "metadata": {}
  },
  {
   "cell_type": "markdown",
   "source": [
    "Since the p value (0.51) is greater than 0.01, 0.05, and 0.1, we accept the null hypothesis at 1%, 5%, and 10% significance levels. Thus, there is strong evidence that there is no difference in the time it takes for a video to trend in the entertainment and music categories."
   ],
   "metadata": {}
  },
  {
   "cell_type": "markdown",
   "source": [
    "### 2. Is there a difference in the number of trending videos in each category across August 2020 and July 2021?"
   ],
   "metadata": {}
  },
  {
   "cell_type": "markdown",
   "source": [
    "By seeing how the number of videos per category behaves over periods of time, it may give us an idea of how categories can affect the probability of a video trending. Should trends be discovered, it may be utilized by aspiring content creators or in marketing as an effective tool of garnering exposure."
   ],
   "metadata": {}
  },
  {
   "cell_type": "markdown",
   "source": [
    "First we construct the hypotheses."
   ],
   "metadata": {}
  },
  {
   "cell_type": "markdown",
   "source": [
    "$H_0$ (null hypothesis): There is no difference in the number of trending videos in each category across August 2020 and July 2021.\r\n",
    "\r\n",
    "$H_A$ (alternative hypothesis): There is a difference in the number oftrending videos in each category across August 2020 and July 2021."
   ],
   "metadata": {}
  },
  {
   "cell_type": "code",
   "execution_count": 86,
   "source": [
    "df_copy = trending_US_df.copy()\r\n",
    "# slice trending_date strings to keep only month and year\r\n",
    "monthly_slice = trending_US_df[\"trending_date\"].str.slice(stop=7)\r\n",
    "# replace trending_date column with the slice in copy of trending_US_df\r\n",
    "df_copy['trending_date'] = monthly_slice\r\n",
    "# take value counts per month and year\r\n",
    "counts = df_copy.groupby(\"trending_date\")[\"categoryId\"].value_counts()\r\n",
    "# drop 2020-08 and 2021-07 as these months are incomplete\r\n",
    "counts = counts.drop(labels=['2020-08','2021-07'])\r\n",
    "counts"
   ],
   "outputs": [
    {
     "output_type": "execute_result",
     "data": {
      "text/plain": [
       "trending_date  categoryId           \n",
       "2020-09        Music                    1393\n",
       "               Entertainment             988\n",
       "               Sports                    722\n",
       "               Gaming                    522\n",
       "               People & Blogs            503\n",
       "                                        ... \n",
       "2021-06        Education                 168\n",
       "               News & Politics           154\n",
       "               Travel & Events            47\n",
       "               Pets & Animals             29\n",
       "               Nonprofits & Activism      10\n",
       "Name: categoryId, Length: 145, dtype: int64"
      ]
     },
     "metadata": {},
     "execution_count": 86
    }
   ],
   "metadata": {}
  },
  {
   "cell_type": "code",
   "execution_count": 87,
   "source": [
    "table = pd.DataFrame([\r\n",
    "    counts['2020-09'], counts['2020-10'], counts['2020-11'], counts['2020-12'],\r\n",
    "    counts['2021-01'], counts['2021-02'], counts['2021-03'], counts['2021-04'],\r\n",
    "    counts['2021-05'], counts['2021-06']\r\n",
    "], index = [\r\n",
    "    \"August 2020\", \"October 2020\", \"November 2020\", \"December 2020\",\r\n",
    "    \"January 2021\", \"February 2021\", \"March 2021\", \"April 2021\",\r\n",
    "    \"May 2021\", \"June 2021\",\r\n",
    "]).transpose()\r\n",
    "table = table.fillna(0).astype(int)\r\n",
    "table"
   ],
   "outputs": [
    {
     "output_type": "execute_result",
     "data": {
      "text/plain": [
       "                       August 2020  October 2020  November 2020  \\\n",
       "categoryId                                                        \n",
       "Music                         1393          1333           1357   \n",
       "Entertainment                  988          1144           1068   \n",
       "Sports                         722           768            600   \n",
       "Gaming                         522           552            605   \n",
       "People & Blogs                 503           476            506   \n",
       "Science & Technology           437           343            220   \n",
       "Comedy                         325           428            377   \n",
       "Howto & Style                  304           258            321   \n",
       "Film & Animation               219           218            209   \n",
       "News & Politics                219           196            270   \n",
       "Education                      147           126            109   \n",
       "Autos & Vehicles               125            95            112   \n",
       "Pets & Animals                  68            21             20   \n",
       "Travel & Events                 19            24             25   \n",
       "Nonprofits & Activism            9            16              0   \n",
       "\n",
       "                       December 2020  January 2021  February 2021  March 2021  \\\n",
       "categoryId                                                                      \n",
       "Music                           1246          1093            987        1274   \n",
       "Entertainment                   1240          1161           1216        1363   \n",
       "Sports                           733           925            585         505   \n",
       "Gaming                           627           688            821        1200   \n",
       "People & Blogs                   438           535            463         545   \n",
       "Science & Technology             247           221            193         158   \n",
       "Comedy                           290           338            271         381   \n",
       "Howto & Style                    268           241            199         208   \n",
       "Film & Animation                 256           261            224         242   \n",
       "News & Politics                  121           419            152         260   \n",
       "Education                        150           110            117         127   \n",
       "Autos & Vehicles                 149           107            121          84   \n",
       "Pets & Animals                    25            50             27          46   \n",
       "Travel & Events                    9            51             20           7   \n",
       "Nonprofits & Activism              0             0              0           0   \n",
       "\n",
       "                       April 2021  May 2021  June 2021  \n",
       "categoryId                                              \n",
       "Music                         961       994       1331  \n",
       "Entertainment                1340      1195       1863  \n",
       "Sports                        530       454       1054  \n",
       "Gaming                       1270       918       2239  \n",
       "People & Blogs                545       447        662  \n",
       "Science & Technology          251       172        264  \n",
       "Comedy                        267       203        418  \n",
       "Howto & Style                 160        79        240  \n",
       "Film & Animation              213       181        344  \n",
       "News & Politics               246       256        154  \n",
       "Education                     112       154        168  \n",
       "Autos & Vehicles               67        85        177  \n",
       "Pets & Animals                 19        18         29  \n",
       "Travel & Events                12        22         47  \n",
       "Nonprofits & Activism           6        22         10  "
      ],
      "text/html": [
       "<div>\n",
       "<style scoped>\n",
       "    .dataframe tbody tr th:only-of-type {\n",
       "        vertical-align: middle;\n",
       "    }\n",
       "\n",
       "    .dataframe tbody tr th {\n",
       "        vertical-align: top;\n",
       "    }\n",
       "\n",
       "    .dataframe thead th {\n",
       "        text-align: right;\n",
       "    }\n",
       "</style>\n",
       "<table border=\"1\" class=\"dataframe\">\n",
       "  <thead>\n",
       "    <tr style=\"text-align: right;\">\n",
       "      <th></th>\n",
       "      <th>August 2020</th>\n",
       "      <th>October 2020</th>\n",
       "      <th>November 2020</th>\n",
       "      <th>December 2020</th>\n",
       "      <th>January 2021</th>\n",
       "      <th>February 2021</th>\n",
       "      <th>March 2021</th>\n",
       "      <th>April 2021</th>\n",
       "      <th>May 2021</th>\n",
       "      <th>June 2021</th>\n",
       "    </tr>\n",
       "    <tr>\n",
       "      <th>categoryId</th>\n",
       "      <th></th>\n",
       "      <th></th>\n",
       "      <th></th>\n",
       "      <th></th>\n",
       "      <th></th>\n",
       "      <th></th>\n",
       "      <th></th>\n",
       "      <th></th>\n",
       "      <th></th>\n",
       "      <th></th>\n",
       "    </tr>\n",
       "  </thead>\n",
       "  <tbody>\n",
       "    <tr>\n",
       "      <th>Music</th>\n",
       "      <td>1393</td>\n",
       "      <td>1333</td>\n",
       "      <td>1357</td>\n",
       "      <td>1246</td>\n",
       "      <td>1093</td>\n",
       "      <td>987</td>\n",
       "      <td>1274</td>\n",
       "      <td>961</td>\n",
       "      <td>994</td>\n",
       "      <td>1331</td>\n",
       "    </tr>\n",
       "    <tr>\n",
       "      <th>Entertainment</th>\n",
       "      <td>988</td>\n",
       "      <td>1144</td>\n",
       "      <td>1068</td>\n",
       "      <td>1240</td>\n",
       "      <td>1161</td>\n",
       "      <td>1216</td>\n",
       "      <td>1363</td>\n",
       "      <td>1340</td>\n",
       "      <td>1195</td>\n",
       "      <td>1863</td>\n",
       "    </tr>\n",
       "    <tr>\n",
       "      <th>Sports</th>\n",
       "      <td>722</td>\n",
       "      <td>768</td>\n",
       "      <td>600</td>\n",
       "      <td>733</td>\n",
       "      <td>925</td>\n",
       "      <td>585</td>\n",
       "      <td>505</td>\n",
       "      <td>530</td>\n",
       "      <td>454</td>\n",
       "      <td>1054</td>\n",
       "    </tr>\n",
       "    <tr>\n",
       "      <th>Gaming</th>\n",
       "      <td>522</td>\n",
       "      <td>552</td>\n",
       "      <td>605</td>\n",
       "      <td>627</td>\n",
       "      <td>688</td>\n",
       "      <td>821</td>\n",
       "      <td>1200</td>\n",
       "      <td>1270</td>\n",
       "      <td>918</td>\n",
       "      <td>2239</td>\n",
       "    </tr>\n",
       "    <tr>\n",
       "      <th>People &amp; Blogs</th>\n",
       "      <td>503</td>\n",
       "      <td>476</td>\n",
       "      <td>506</td>\n",
       "      <td>438</td>\n",
       "      <td>535</td>\n",
       "      <td>463</td>\n",
       "      <td>545</td>\n",
       "      <td>545</td>\n",
       "      <td>447</td>\n",
       "      <td>662</td>\n",
       "    </tr>\n",
       "    <tr>\n",
       "      <th>Science &amp; Technology</th>\n",
       "      <td>437</td>\n",
       "      <td>343</td>\n",
       "      <td>220</td>\n",
       "      <td>247</td>\n",
       "      <td>221</td>\n",
       "      <td>193</td>\n",
       "      <td>158</td>\n",
       "      <td>251</td>\n",
       "      <td>172</td>\n",
       "      <td>264</td>\n",
       "    </tr>\n",
       "    <tr>\n",
       "      <th>Comedy</th>\n",
       "      <td>325</td>\n",
       "      <td>428</td>\n",
       "      <td>377</td>\n",
       "      <td>290</td>\n",
       "      <td>338</td>\n",
       "      <td>271</td>\n",
       "      <td>381</td>\n",
       "      <td>267</td>\n",
       "      <td>203</td>\n",
       "      <td>418</td>\n",
       "    </tr>\n",
       "    <tr>\n",
       "      <th>Howto &amp; Style</th>\n",
       "      <td>304</td>\n",
       "      <td>258</td>\n",
       "      <td>321</td>\n",
       "      <td>268</td>\n",
       "      <td>241</td>\n",
       "      <td>199</td>\n",
       "      <td>208</td>\n",
       "      <td>160</td>\n",
       "      <td>79</td>\n",
       "      <td>240</td>\n",
       "    </tr>\n",
       "    <tr>\n",
       "      <th>Film &amp; Animation</th>\n",
       "      <td>219</td>\n",
       "      <td>218</td>\n",
       "      <td>209</td>\n",
       "      <td>256</td>\n",
       "      <td>261</td>\n",
       "      <td>224</td>\n",
       "      <td>242</td>\n",
       "      <td>213</td>\n",
       "      <td>181</td>\n",
       "      <td>344</td>\n",
       "    </tr>\n",
       "    <tr>\n",
       "      <th>News &amp; Politics</th>\n",
       "      <td>219</td>\n",
       "      <td>196</td>\n",
       "      <td>270</td>\n",
       "      <td>121</td>\n",
       "      <td>419</td>\n",
       "      <td>152</td>\n",
       "      <td>260</td>\n",
       "      <td>246</td>\n",
       "      <td>256</td>\n",
       "      <td>154</td>\n",
       "    </tr>\n",
       "    <tr>\n",
       "      <th>Education</th>\n",
       "      <td>147</td>\n",
       "      <td>126</td>\n",
       "      <td>109</td>\n",
       "      <td>150</td>\n",
       "      <td>110</td>\n",
       "      <td>117</td>\n",
       "      <td>127</td>\n",
       "      <td>112</td>\n",
       "      <td>154</td>\n",
       "      <td>168</td>\n",
       "    </tr>\n",
       "    <tr>\n",
       "      <th>Autos &amp; Vehicles</th>\n",
       "      <td>125</td>\n",
       "      <td>95</td>\n",
       "      <td>112</td>\n",
       "      <td>149</td>\n",
       "      <td>107</td>\n",
       "      <td>121</td>\n",
       "      <td>84</td>\n",
       "      <td>67</td>\n",
       "      <td>85</td>\n",
       "      <td>177</td>\n",
       "    </tr>\n",
       "    <tr>\n",
       "      <th>Pets &amp; Animals</th>\n",
       "      <td>68</td>\n",
       "      <td>21</td>\n",
       "      <td>20</td>\n",
       "      <td>25</td>\n",
       "      <td>50</td>\n",
       "      <td>27</td>\n",
       "      <td>46</td>\n",
       "      <td>19</td>\n",
       "      <td>18</td>\n",
       "      <td>29</td>\n",
       "    </tr>\n",
       "    <tr>\n",
       "      <th>Travel &amp; Events</th>\n",
       "      <td>19</td>\n",
       "      <td>24</td>\n",
       "      <td>25</td>\n",
       "      <td>9</td>\n",
       "      <td>51</td>\n",
       "      <td>20</td>\n",
       "      <td>7</td>\n",
       "      <td>12</td>\n",
       "      <td>22</td>\n",
       "      <td>47</td>\n",
       "    </tr>\n",
       "    <tr>\n",
       "      <th>Nonprofits &amp; Activism</th>\n",
       "      <td>9</td>\n",
       "      <td>16</td>\n",
       "      <td>0</td>\n",
       "      <td>0</td>\n",
       "      <td>0</td>\n",
       "      <td>0</td>\n",
       "      <td>0</td>\n",
       "      <td>6</td>\n",
       "      <td>22</td>\n",
       "      <td>10</td>\n",
       "    </tr>\n",
       "  </tbody>\n",
       "</table>\n",
       "</div>"
      ]
     },
     "metadata": {},
     "execution_count": 87
    }
   ],
   "metadata": {}
  },
  {
   "cell_type": "code",
   "execution_count": 88,
   "source": [
    "chi2_contingency(table)"
   ],
   "outputs": [
    {
     "output_type": "execute_result",
     "data": {
      "text/plain": [
       "(3237.531046832998,\n",
       " 0.0,\n",
       " 126,\n",
       " array([[1162.20808856, 1161.82068586, 1123.27411759, 1123.27411759,\n",
       "         1200.94835818, 1045.21247431, 1239.68862779, 1162.01438721,\n",
       "         1007.24701008, 1743.31213283],\n",
       "        [1221.34291402, 1220.93579971, 1180.4279264 , 1180.4279264 ,\n",
       "         1262.05434448, 1098.39439401, 1302.76577495, 1221.13935686,\n",
       "         1058.49719215, 1832.01437102],\n",
       "        [ 667.67004904,  667.44749235,  645.30310239,  645.30310239,\n",
       "          689.92571734,  600.45793077,  712.18138564,  667.55877069,\n",
       "          578.64737583, 1001.50507355],\n",
       "        [ 916.83254843,  916.52693758,  886.11865806,  886.11865806,\n",
       "          947.39363338,  824.53807189,  977.95471832,  916.679743  ,\n",
       "          794.58820864, 1375.24882264],\n",
       "        [ 497.15978055,  496.99406062,  480.5049279 ,  480.5049279 ,\n",
       "          513.73177324,  447.11236264,  530.30376592,  497.07692059,\n",
       "          430.87180981,  745.73967083],\n",
       "        [ 243.33640821,  243.25529608,  235.18463854,  235.18463854,\n",
       "          251.44762182,  218.84054312,  259.55883543,  243.29585215,\n",
       "          210.89155379,  365.00461232],\n",
       "        [ 320.24081177,  320.13406483,  309.51274457,  309.51274457,\n",
       "          330.91550549,  288.00323672,  341.59019922,  320.1874383 ,\n",
       "          277.54203687,  480.36121765],\n",
       "        [ 221.19726174,  221.12352932,  213.78715347,  213.78715347,\n",
       "          228.5705038 ,  198.93007072,  235.94374585,  221.16039553,\n",
       "          191.70429351,  331.79589261],\n",
       "        [ 229.83929698,  229.76268389,  222.13968054,  222.13968054,\n",
       "          237.50060688,  206.70214109,  245.16191678,  229.80099044,\n",
       "          199.19405739,  344.75894548],\n",
       "        [ 222.65378453,  222.5795666 ,  215.19488275,  215.19488275,\n",
       "          230.07557735,  200.23997022,  237.49737017,  222.61667557,\n",
       "          192.96661326,  333.9806768 ],\n",
       "        [ 128.17400592,  128.13128125,  123.88017672,  123.88017672,\n",
       "          132.44647279,  115.27115599,  136.71893965,  128.15264359,\n",
       "          111.08413847,  192.26100888],\n",
       "        [ 108.94790503,  108.91158907,  105.29815022,  105.29815022,\n",
       "          112.57950187,   97.98048259,  116.2110987 ,  108.92974705,\n",
       "           94.4215177 ,  163.42185755],\n",
       "        [  31.36379084,   31.35333625,   30.31310385,   30.31310385,\n",
       "           32.40925054,   28.20650257,   33.45471023,   31.35856354,\n",
       "           27.18195206,   47.04568626],\n",
       "        [  22.91595863,   22.90831998,   22.14827402,   22.14827402,\n",
       "           23.67982392,   20.60908547,   24.44368921,   22.91213931,\n",
       "           19.86049748,   34.37393795],\n",
       "        [   6.11739574,    6.11535661,    5.91246298,    5.91246298,\n",
       "            6.32130893,    5.5015779 ,    6.52522212,    6.11637617,\n",
       "            5.30174297,    9.17609361]]))"
      ]
     },
     "metadata": {},
     "execution_count": 88
    }
   ],
   "metadata": {}
  },
  {
   "cell_type": "markdown",
   "source": [
    "Since the p value (0.0) is less than 0.10, 0.05 and 0.1, we reject the null hypothesis at 1%, 5% and 10% signifance levels. Thus, there is strong evidence that there is a difference in the number of trending videos in each category across months."
   ],
   "metadata": {}
  }
 ],
 "metadata": {
  "colab": {
   "collapsed_sections": [],
   "name": "Untitled0.ipynb",
   "provenance": [],
   "toc_visible": true
  },
  "interpreter": {
   "hash": "96eb50e1d44aed467dc8f759cb08c32fbfa9babcf79c554e2d0e5feb04653a10"
  },
  "kernelspec": {
   "name": "python3",
   "display_name": "Python 3.8.8 64-bit ('base': conda)"
  },
  "language_info": {
   "codemirror_mode": {
    "name": "ipython",
    "version": 3
   },
   "file_extension": ".py",
   "mimetype": "text/x-python",
   "name": "python",
   "nbconvert_exporter": "python",
   "pygments_lexer": "ipython3",
   "version": "3.8.8"
  }
 },
 "nbformat": 4,
 "nbformat_minor": 1
}